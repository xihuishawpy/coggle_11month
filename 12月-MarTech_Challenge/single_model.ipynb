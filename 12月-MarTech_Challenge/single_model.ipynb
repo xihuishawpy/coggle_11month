{
 "cells": [
  {
   "cell_type": "code",
   "execution_count": 2,
   "metadata": {},
   "outputs": [],
   "source": [
    "import numpy as np\n",
    "import pandas as pd\n",
    "import lightgbm as lgb\n",
    "import xgboost as xgb\n",
    "from sklearn.metrics import roc_auc_score, auc, roc_curve, accuracy_score, f1_score\n",
    "from sklearn.model_selection import StratifiedKFold\n",
    "from sklearn.preprocessing import StandardScaler, QuantileTransformer, KBinsDiscretizer, LabelEncoder, MinMaxScaler, PowerTransformer\n",
    "\n",
    "import matplotlib.pyplot as plt\n",
    "%matplotlib inline \n",
    "plt.style.use(\"ggplot\")      \n",
    "import seaborn as sns\n",
    "import missingno as msno\n",
    "import warnings\n",
    "warnings.filterwarnings('ignore')\n",
    "from IPython.core.interactiveshell import InteractiveShell\n",
    "InteractiveShell.ast_node_interactivity = 'all'\n",
    "\n",
    "\n",
    "# from pandas_profiling import ProfileReport\n",
    "\n",
    "# ProfileReport(train).to_notebook_iframe()"
   ]
  },
  {
   "cell_type": "code",
   "execution_count": 3,
   "metadata": {},
   "outputs": [
    {
     "data": {
      "text/html": [
       "<div>\n",
       "<style scoped>\n",
       "    .dataframe tbody tr th:only-of-type {\n",
       "        vertical-align: middle;\n",
       "    }\n",
       "\n",
       "    .dataframe tbody tr th {\n",
       "        vertical-align: top;\n",
       "    }\n",
       "\n",
       "    .dataframe thead th {\n",
       "        text-align: right;\n",
       "    }\n",
       "</style>\n",
       "<table border=\"1\" class=\"dataframe\">\n",
       "  <thead>\n",
       "    <tr style=\"text-align: right;\">\n",
       "      <th></th>\n",
       "      <th>android_id</th>\n",
       "      <th>apptype</th>\n",
       "      <th>carrier</th>\n",
       "      <th>dev_height</th>\n",
       "      <th>dev_ppi</th>\n",
       "      <th>dev_width</th>\n",
       "      <th>label</th>\n",
       "      <th>lan</th>\n",
       "      <th>media_id</th>\n",
       "      <th>ntt</th>\n",
       "      <th>os</th>\n",
       "      <th>osv</th>\n",
       "      <th>package</th>\n",
       "      <th>sid</th>\n",
       "      <th>timestamp</th>\n",
       "      <th>version</th>\n",
       "      <th>fea_hash</th>\n",
       "      <th>location</th>\n",
       "      <th>fea1_hash</th>\n",
       "      <th>cus_type</th>\n",
       "    </tr>\n",
       "  </thead>\n",
       "  <tbody>\n",
       "    <tr>\n",
       "      <th>0</th>\n",
       "      <td>316361</td>\n",
       "      <td>1199</td>\n",
       "      <td>46000.0</td>\n",
       "      <td>0.0</td>\n",
       "      <td>0.0</td>\n",
       "      <td>0.0</td>\n",
       "      <td>1</td>\n",
       "      <td>NaN</td>\n",
       "      <td>104</td>\n",
       "      <td>6.0</td>\n",
       "      <td>android</td>\n",
       "      <td>9</td>\n",
       "      <td>18</td>\n",
       "      <td>1438873</td>\n",
       "      <td>1.559893e+12</td>\n",
       "      <td>8</td>\n",
       "      <td>2135019403</td>\n",
       "      <td>0</td>\n",
       "      <td>2329670524</td>\n",
       "      <td>601</td>\n",
       "    </tr>\n",
       "    <tr>\n",
       "      <th>1</th>\n",
       "      <td>135939</td>\n",
       "      <td>893</td>\n",
       "      <td>0.0</td>\n",
       "      <td>0.0</td>\n",
       "      <td>0.0</td>\n",
       "      <td>0.0</td>\n",
       "      <td>1</td>\n",
       "      <td>NaN</td>\n",
       "      <td>19</td>\n",
       "      <td>6.0</td>\n",
       "      <td>android</td>\n",
       "      <td>8.1</td>\n",
       "      <td>0</td>\n",
       "      <td>1185582</td>\n",
       "      <td>1.559994e+12</td>\n",
       "      <td>4</td>\n",
       "      <td>2782306428</td>\n",
       "      <td>1</td>\n",
       "      <td>2864801071</td>\n",
       "      <td>1000</td>\n",
       "    </tr>\n",
       "    <tr>\n",
       "      <th>2</th>\n",
       "      <td>399254</td>\n",
       "      <td>821</td>\n",
       "      <td>0.0</td>\n",
       "      <td>760.0</td>\n",
       "      <td>0.0</td>\n",
       "      <td>360.0</td>\n",
       "      <td>1</td>\n",
       "      <td>NaN</td>\n",
       "      <td>559</td>\n",
       "      <td>0.0</td>\n",
       "      <td>android</td>\n",
       "      <td>8.1.0</td>\n",
       "      <td>0</td>\n",
       "      <td>1555716</td>\n",
       "      <td>1.559837e+12</td>\n",
       "      <td>0</td>\n",
       "      <td>1392806005</td>\n",
       "      <td>2</td>\n",
       "      <td>628911675</td>\n",
       "      <td>696</td>\n",
       "    </tr>\n",
       "    <tr>\n",
       "      <th>3</th>\n",
       "      <td>68983</td>\n",
       "      <td>1004</td>\n",
       "      <td>46000.0</td>\n",
       "      <td>2214.0</td>\n",
       "      <td>0.0</td>\n",
       "      <td>1080.0</td>\n",
       "      <td>0</td>\n",
       "      <td>NaN</td>\n",
       "      <td>129</td>\n",
       "      <td>2.0</td>\n",
       "      <td>android</td>\n",
       "      <td>8.1.0</td>\n",
       "      <td>0</td>\n",
       "      <td>1093419</td>\n",
       "      <td>1.560042e+12</td>\n",
       "      <td>0</td>\n",
       "      <td>3562553457</td>\n",
       "      <td>3</td>\n",
       "      <td>1283809327</td>\n",
       "      <td>753</td>\n",
       "    </tr>\n",
       "    <tr>\n",
       "      <th>4</th>\n",
       "      <td>288999</td>\n",
       "      <td>1076</td>\n",
       "      <td>46000.0</td>\n",
       "      <td>2280.0</td>\n",
       "      <td>0.0</td>\n",
       "      <td>1080.0</td>\n",
       "      <td>1</td>\n",
       "      <td>zh-CN</td>\n",
       "      <td>64</td>\n",
       "      <td>2.0</td>\n",
       "      <td>android</td>\n",
       "      <td>8.0.0</td>\n",
       "      <td>0</td>\n",
       "      <td>1400089</td>\n",
       "      <td>1.559867e+12</td>\n",
       "      <td>5</td>\n",
       "      <td>2364522023</td>\n",
       "      <td>4</td>\n",
       "      <td>1510695983</td>\n",
       "      <td>582</td>\n",
       "    </tr>\n",
       "  </tbody>\n",
       "</table>\n",
       "</div>"
      ],
      "text/plain": [
       "   android_id  apptype  carrier  dev_height  dev_ppi  dev_width  label    lan  \\\n",
       "0      316361     1199  46000.0         0.0      0.0        0.0      1    NaN   \n",
       "1      135939      893      0.0         0.0      0.0        0.0      1    NaN   \n",
       "2      399254      821      0.0       760.0      0.0      360.0      1    NaN   \n",
       "3       68983     1004  46000.0      2214.0      0.0     1080.0      0    NaN   \n",
       "4      288999     1076  46000.0      2280.0      0.0     1080.0      1  zh-CN   \n",
       "\n",
       "   media_id  ntt       os    osv  package      sid     timestamp version  \\\n",
       "0       104  6.0  android      9       18  1438873  1.559893e+12       8   \n",
       "1        19  6.0  android    8.1        0  1185582  1.559994e+12       4   \n",
       "2       559  0.0  android  8.1.0        0  1555716  1.559837e+12       0   \n",
       "3       129  2.0  android  8.1.0        0  1093419  1.560042e+12       0   \n",
       "4        64  2.0  android  8.0.0        0  1400089  1.559867e+12       5   \n",
       "\n",
       "     fea_hash  location   fea1_hash  cus_type  \n",
       "0  2135019403         0  2329670524       601  \n",
       "1  2782306428         1  2864801071      1000  \n",
       "2  1392806005         2   628911675       696  \n",
       "3  3562553457         3  1283809327       753  \n",
       "4  2364522023         4  1510695983       582  "
      ]
     },
     "execution_count": 3,
     "metadata": {},
     "output_type": "execute_result"
    }
   ],
   "source": [
    "# 数据读取，删除无效列\n",
    "\n",
    "train = pd.read_csv('./data/train.csv')\n",
    "test = pd.read_csv('./data/test1.csv')\n",
    "\n",
    "train.drop(['Unnamed: 0'],axis=1,inplace=True)\n",
    "test.drop(['Unnamed: 0'],axis=1,inplace=True)\n",
    "train.head()"
   ]
  },
  {
   "cell_type": "code",
   "execution_count": 4,
   "metadata": {},
   "outputs": [
    {
     "data": {
      "text/html": [
       "<div>\n",
       "<style scoped>\n",
       "    .dataframe tbody tr th:only-of-type {\n",
       "        vertical-align: middle;\n",
       "    }\n",
       "\n",
       "    .dataframe tbody tr th {\n",
       "        vertical-align: top;\n",
       "    }\n",
       "\n",
       "    .dataframe thead th {\n",
       "        text-align: right;\n",
       "    }\n",
       "</style>\n",
       "<table border=\"1\" class=\"dataframe\">\n",
       "  <thead>\n",
       "    <tr style=\"text-align: right;\">\n",
       "      <th></th>\n",
       "      <th>android_id</th>\n",
       "      <th>apptype</th>\n",
       "      <th>carrier</th>\n",
       "      <th>dev_height</th>\n",
       "      <th>dev_ppi</th>\n",
       "      <th>dev_width</th>\n",
       "      <th>label</th>\n",
       "      <th>media_id</th>\n",
       "      <th>ntt</th>\n",
       "      <th>package</th>\n",
       "      <th>sid</th>\n",
       "      <th>timestamp</th>\n",
       "      <th>location</th>\n",
       "      <th>fea1_hash</th>\n",
       "      <th>cus_type</th>\n",
       "    </tr>\n",
       "  </thead>\n",
       "  <tbody>\n",
       "    <tr>\n",
       "      <th>count</th>\n",
       "      <td>500000.000000</td>\n",
       "      <td>500000.000000</td>\n",
       "      <td>500000.000000</td>\n",
       "      <td>500000.000000</td>\n",
       "      <td>500000.000000</td>\n",
       "      <td>500000.000000</td>\n",
       "      <td>500000.00000</td>\n",
       "      <td>500000.00000</td>\n",
       "      <td>500000.000000</td>\n",
       "      <td>500000.000000</td>\n",
       "      <td>5.000000e+05</td>\n",
       "      <td>5.000000e+05</td>\n",
       "      <td>500000.000000</td>\n",
       "      <td>5.000000e+05</td>\n",
       "      <td>500000.000000</td>\n",
       "    </tr>\n",
       "    <tr>\n",
       "      <th>mean</th>\n",
       "      <td>261359.275126</td>\n",
       "      <td>986.640110</td>\n",
       "      <td>40028.788034</td>\n",
       "      <td>1264.986626</td>\n",
       "      <td>72.027966</td>\n",
       "      <td>703.486166</td>\n",
       "      <td>0.48448</td>\n",
       "      <td>124.08762</td>\n",
       "      <td>3.089808</td>\n",
       "      <td>38.465876</td>\n",
       "      <td>1.500335e+06</td>\n",
       "      <td>1.559814e+12</td>\n",
       "      <td>96.040504</td>\n",
       "      <td>2.300866e+09</td>\n",
       "      <td>730.824682</td>\n",
       "    </tr>\n",
       "    <tr>\n",
       "      <th>std</th>\n",
       "      <td>233616.172774</td>\n",
       "      <td>128.956348</td>\n",
       "      <td>15460.788899</td>\n",
       "      <td>853.371330</td>\n",
       "      <td>167.664930</td>\n",
       "      <td>505.751343</td>\n",
       "      <td>0.49976</td>\n",
       "      <td>164.25454</td>\n",
       "      <td>1.843088</td>\n",
       "      <td>136.321129</td>\n",
       "      <td>2.884292e+05</td>\n",
       "      <td>1.680735e+08</td>\n",
       "      <td>85.652740</td>\n",
       "      <td>1.236593e+09</td>\n",
       "      <td>331.946854</td>\n",
       "    </tr>\n",
       "    <tr>\n",
       "      <th>min</th>\n",
       "      <td>0.000000</td>\n",
       "      <td>95.000000</td>\n",
       "      <td>-1.000000</td>\n",
       "      <td>0.000000</td>\n",
       "      <td>0.000000</td>\n",
       "      <td>0.000000</td>\n",
       "      <td>0.00000</td>\n",
       "      <td>4.00000</td>\n",
       "      <td>0.000000</td>\n",
       "      <td>0.000000</td>\n",
       "      <td>1.000005e+06</td>\n",
       "      <td>1.559491e+12</td>\n",
       "      <td>-1.000000</td>\n",
       "      <td>1.240000e+04</td>\n",
       "      <td>297.000000</td>\n",
       "    </tr>\n",
       "    <tr>\n",
       "      <th>25%</th>\n",
       "      <td>0.000000</td>\n",
       "      <td>917.000000</td>\n",
       "      <td>46000.000000</td>\n",
       "      <td>720.000000</td>\n",
       "      <td>0.000000</td>\n",
       "      <td>360.000000</td>\n",
       "      <td>0.00000</td>\n",
       "      <td>29.00000</td>\n",
       "      <td>2.000000</td>\n",
       "      <td>0.000000</td>\n",
       "      <td>1.250850e+06</td>\n",
       "      <td>1.559664e+12</td>\n",
       "      <td>23.000000</td>\n",
       "      <td>1.376752e+09</td>\n",
       "      <td>411.000000</td>\n",
       "    </tr>\n",
       "    <tr>\n",
       "      <th>50%</th>\n",
       "      <td>228563.000000</td>\n",
       "      <td>1001.000000</td>\n",
       "      <td>46000.000000</td>\n",
       "      <td>1280.000000</td>\n",
       "      <td>0.000000</td>\n",
       "      <td>720.000000</td>\n",
       "      <td>0.00000</td>\n",
       "      <td>64.00000</td>\n",
       "      <td>2.000000</td>\n",
       "      <td>7.000000</td>\n",
       "      <td>1.500358e+06</td>\n",
       "      <td>1.559816e+12</td>\n",
       "      <td>64.000000</td>\n",
       "      <td>2.490131e+09</td>\n",
       "      <td>658.000000</td>\n",
       "    </tr>\n",
       "    <tr>\n",
       "      <th>75%</th>\n",
       "      <td>465701.500000</td>\n",
       "      <td>1076.000000</td>\n",
       "      <td>46000.000000</td>\n",
       "      <td>2040.000000</td>\n",
       "      <td>0.000000</td>\n",
       "      <td>1080.000000</td>\n",
       "      <td>1.00000</td>\n",
       "      <td>139.00000</td>\n",
       "      <td>5.000000</td>\n",
       "      <td>24.000000</td>\n",
       "      <td>1.750028e+06</td>\n",
       "      <td>1.559964e+12</td>\n",
       "      <td>154.000000</td>\n",
       "      <td>3.062465e+09</td>\n",
       "      <td>1019.000000</td>\n",
       "    </tr>\n",
       "    <tr>\n",
       "      <th>max</th>\n",
       "      <td>709898.000000</td>\n",
       "      <td>1241.000000</td>\n",
       "      <td>46003.000000</td>\n",
       "      <td>9024.000000</td>\n",
       "      <td>720.000000</td>\n",
       "      <td>8832.000000</td>\n",
       "      <td>1.00000</td>\n",
       "      <td>1544.00000</td>\n",
       "      <td>7.000000</td>\n",
       "      <td>2327.000000</td>\n",
       "      <td>1.999999e+06</td>\n",
       "      <td>1.560096e+12</td>\n",
       "      <td>330.000000</td>\n",
       "      <td>4.291920e+09</td>\n",
       "      <td>1380.000000</td>\n",
       "    </tr>\n",
       "  </tbody>\n",
       "</table>\n",
       "</div>"
      ],
      "text/plain": [
       "          android_id        apptype        carrier     dev_height  \\\n",
       "count  500000.000000  500000.000000  500000.000000  500000.000000   \n",
       "mean   261359.275126     986.640110   40028.788034    1264.986626   \n",
       "std    233616.172774     128.956348   15460.788899     853.371330   \n",
       "min         0.000000      95.000000      -1.000000       0.000000   \n",
       "25%         0.000000     917.000000   46000.000000     720.000000   \n",
       "50%    228563.000000    1001.000000   46000.000000    1280.000000   \n",
       "75%    465701.500000    1076.000000   46000.000000    2040.000000   \n",
       "max    709898.000000    1241.000000   46003.000000    9024.000000   \n",
       "\n",
       "             dev_ppi      dev_width         label      media_id  \\\n",
       "count  500000.000000  500000.000000  500000.00000  500000.00000   \n",
       "mean       72.027966     703.486166       0.48448     124.08762   \n",
       "std       167.664930     505.751343       0.49976     164.25454   \n",
       "min         0.000000       0.000000       0.00000       4.00000   \n",
       "25%         0.000000     360.000000       0.00000      29.00000   \n",
       "50%         0.000000     720.000000       0.00000      64.00000   \n",
       "75%         0.000000    1080.000000       1.00000     139.00000   \n",
       "max       720.000000    8832.000000       1.00000    1544.00000   \n",
       "\n",
       "                 ntt        package           sid     timestamp  \\\n",
       "count  500000.000000  500000.000000  5.000000e+05  5.000000e+05   \n",
       "mean        3.089808      38.465876  1.500335e+06  1.559814e+12   \n",
       "std         1.843088     136.321129  2.884292e+05  1.680735e+08   \n",
       "min         0.000000       0.000000  1.000005e+06  1.559491e+12   \n",
       "25%         2.000000       0.000000  1.250850e+06  1.559664e+12   \n",
       "50%         2.000000       7.000000  1.500358e+06  1.559816e+12   \n",
       "75%         5.000000      24.000000  1.750028e+06  1.559964e+12   \n",
       "max         7.000000    2327.000000  1.999999e+06  1.560096e+12   \n",
       "\n",
       "            location     fea1_hash       cus_type  \n",
       "count  500000.000000  5.000000e+05  500000.000000  \n",
       "mean       96.040504  2.300866e+09     730.824682  \n",
       "std        85.652740  1.236593e+09     331.946854  \n",
       "min        -1.000000  1.240000e+04     297.000000  \n",
       "25%        23.000000  1.376752e+09     411.000000  \n",
       "50%        64.000000  2.490131e+09     658.000000  \n",
       "75%       154.000000  3.062465e+09    1019.000000  \n",
       "max       330.000000  4.291920e+09    1380.000000  "
      ]
     },
     "execution_count": 4,
     "metadata": {},
     "output_type": "execute_result"
    }
   ],
   "source": [
    "train.describe()"
   ]
  },
  {
   "cell_type": "code",
   "execution_count": 5,
   "metadata": {},
   "outputs": [
    {
     "data": {
      "text/plain": [
       "(android_id      int64\n",
       " apptype         int64\n",
       " carrier       float64\n",
       " dev_height    float64\n",
       " dev_ppi       float64\n",
       " dev_width     float64\n",
       " label           int64\n",
       " lan            object\n",
       " media_id        int64\n",
       " ntt           float64\n",
       " os             object\n",
       " osv            object\n",
       " package         int64\n",
       " sid             int64\n",
       " timestamp     float64\n",
       " version        object\n",
       " fea_hash       object\n",
       " location        int64\n",
       " fea1_hash       int64\n",
       " cus_type        int64\n",
       " dtype: object,\n",
       " 19)"
      ]
     },
     "execution_count": 5,
     "metadata": {},
     "output_type": "execute_result"
    }
   ],
   "source": [
    "train.dtypes,len(train.columns)-1"
   ]
  },
  {
   "cell_type": "code",
   "execution_count": 6,
   "metadata": {},
   "outputs": [
    {
     "name": "stdout",
     "output_type": "stream",
     "text": [
      "android_id\n"
     ]
    },
    {
     "data": {
      "text/plain": [
       "<matplotlib.axes._subplots.AxesSubplot at 0x1508d701760>"
      ]
     },
     "execution_count": 6,
     "metadata": {},
     "output_type": "execute_result"
    },
    {
     "data": {
      "image/png": "[encoded data removed]",
      "text/plain": [
       "<Figure size 432x288 with 1 Axes>"
      ]
     },
     "metadata": {},
     "output_type": "display_data"
    },
    {
     "name": "stdout",
     "output_type": "stream",
     "text": [
      "apptype\n"
     ]
    },
    {
     "data": {
      "text/plain": [
       "<matplotlib.axes._subplots.AxesSubplot at 0x1508d7fa580>"
      ]
     },
     "execution_count": 6,
     "metadata": {},
     "output_type": "execute_result"
    },
    {
     "data": {
      "image/png": "[encoded data removed]",
      "text/plain": [
       "<Figure size 432x288 with 1 Axes>"
      ]
     },
     "metadata": {},
     "output_type": "display_data"
    },
    {
     "name": "stdout",
     "output_type": "stream",
     "text": [
      "carrier\n"
     ]
    },
    {
     "data": {
      "text/plain": [
       "<matplotlib.axes._subplots.AxesSubplot at 0x1508d87f6d0>"
      ]
     },
     "execution_count": 6,
     "metadata": {},
     "output_type": "execute_result"
    },
    {
     "data": {
      "image/png": "[encoded data removed]",
      "text/plain": [
       "<Figure size 432x288 with 1 Axes>"
      ]
     },
     "metadata": {},
     "output_type": "display_data"
    },
    {
     "name": "stdout",
     "output_type": "stream",
     "text": [
      "dev_height\n"
     ]
    },
    {
     "data": {
      "text/plain": [
       "<matplotlib.axes._subplots.AxesSubplot at 0x1508d8f0220>"
      ]
     },
     "execution_count": 6,
     "metadata": {},
     "output_type": "execute_result"
    },
    {
     "data": {
      "image/png": "[encoded data removed]",
      "text/plain": [
       "<Figure size 432x288 with 1 Axes>"
      ]
     },
     "metadata": {},
     "output_type": "display_data"
    },
    {
     "name": "stdout",
     "output_type": "stream",
     "text": [
      "dev_ppi\n"
     ]
    },
    {
     "data": {
      "text/plain": [
       "<matplotlib.axes._subplots.AxesSubplot at 0x1508d939880>"
      ]
     },
     "execution_count": 6,
     "metadata": {},
     "output_type": "execute_result"
    },
    {
     "data": {
      "image/png": "[encoded data removed]",
      "text/plain": [
       "<Figure size 432x288 with 1 Axes>"
      ]
     },
     "metadata": {},
     "output_type": "display_data"
    },
    {
     "name": "stdout",
     "output_type": "stream",
     "text": [
      "dev_width\n"
     ]
    },
    {
     "data": {
      "text/plain": [
       "<matplotlib.axes._subplots.AxesSubplot at 0x1508da84250>"
      ]
     },
     "execution_count": 6,
     "metadata": {},
     "output_type": "execute_result"
    },
    {
     "data": {
      "image/png": "[encoded data removed]",
      "text/plain": [
       "<Figure size 432x288 with 1 Axes>"
      ]
     },
     "metadata": {},
     "output_type": "display_data"
    },
    {
     "name": "stdout",
     "output_type": "stream",
     "text": [
      "lan\n"
     ]
    },
    {
     "data": {
      "text/plain": [
       "<matplotlib.axes._subplots.AxesSubplot at 0x1508daee0a0>"
      ]
     },
     "execution_count": 6,
     "metadata": {},
     "output_type": "execute_result"
    },
    {
     "data": {
      "image/png": "[encoded data removed]",
      "text/plain": [
       "<Figure size 432x288 with 1 Axes>"
      ]
     },
     "metadata": {},
     "output_type": "display_data"
    },
    {
     "name": "stdout",
     "output_type": "stream",
     "text": [
      "media_id\n"
     ]
    },
    {
     "data": {
      "text/plain": [
       "<matplotlib.axes._subplots.AxesSubplot at 0x1508db7e880>"
      ]
     },
     "execution_count": 6,
     "metadata": {},
     "output_type": "execute_result"
    },
    {
     "data": {
      "image/png": "[encoded data removed]",
      "text/plain": [
       "<Figure size 432x288 with 1 Axes>"
      ]
     },
     "metadata": {},
     "output_type": "display_data"
    },
    {
     "name": "stdout",
     "output_type": "stream",
     "text": [
      "ntt\n"
     ]
    },
    {
     "data": {
      "text/plain": [
       "<matplotlib.axes._subplots.AxesSubplot at 0x1508f9053a0>"
      ]
     },
     "execution_count": 6,
     "metadata": {},
     "output_type": "execute_result"
    },
    {
     "data": {
      "image/png": "[encoded data removed]",
      "text/plain": [
       "<Figure size 432x288 with 1 Axes>"
      ]
     },
     "metadata": {},
     "output_type": "display_data"
    },
    {
     "name": "stdout",
     "output_type": "stream",
     "text": [
      "os\n"
     ]
    },
    {
     "data": {
      "text/plain": [
       "<matplotlib.axes._subplots.AxesSubplot at 0x1508f97f760>"
      ]
     },
     "execution_count": 6,
     "metadata": {},
     "output_type": "execute_result"
    },
    {
     "data": {
      "image/png": "[encoded data removed]",
      "text/plain": [
       "<Figure size 432x288 with 1 Axes>"
      ]
     },
     "metadata": {},
     "output_type": "display_data"
    },
    {
     "name": "stdout",
     "output_type": "stream",
     "text": [
      "osv\n"
     ]
    },
    {
     "data": {
      "text/plain": [
       "<matplotlib.axes._subplots.AxesSubplot at 0x1508dba6d90>"
      ]
     },
     "execution_count": 6,
     "metadata": {},
     "output_type": "execute_result"
    },
    {
     "data": {
      "image/png": "[encoded data removed]",
      "text/plain": [
       "<Figure size 432x288 with 1 Axes>"
      ]
     },
     "metadata": {},
     "output_type": "display_data"
    },
    {
     "name": "stdout",
     "output_type": "stream",
     "text": [
      "package\n"
     ]
    },
    {
     "data": {
      "text/plain": [
       "<matplotlib.axes._subplots.AxesSubplot at 0x1508daa68b0>"
      ]
     },
     "execution_count": 6,
     "metadata": {},
     "output_type": "execute_result"
    },
    {
     "data": {
      "image/png": "[encoded data removed]",
      "text/plain": [
       "<Figure size 432x288 with 1 Axes>"
      ]
     },
     "metadata": {},
     "output_type": "display_data"
    },
    {
     "name": "stdout",
     "output_type": "stream",
     "text": [
      "sid\n"
     ]
    },
    {
     "data": {
      "text/plain": [
       "<matplotlib.axes._subplots.AxesSubplot at 0x1508d969be0>"
      ]
     },
     "execution_count": 6,
     "metadata": {},
     "output_type": "execute_result"
    },
    {
     "data": {
      "image/png": "[encoded data removed]",
      "text/plain": [
       "<Figure size 432x288 with 1 Axes>"
      ]
     },
     "metadata": {},
     "output_type": "display_data"
    },
    {
     "name": "stdout",
     "output_type": "stream",
     "text": [
      "timestamp\n"
     ]
    },
    {
     "data": {
      "text/plain": [
       "<matplotlib.axes._subplots.AxesSubplot at 0x1508f9f11c0>"
      ]
     },
     "execution_count": 6,
     "metadata": {},
     "output_type": "execute_result"
    },
    {
     "data": {
      "image/png": "[encoded data removed]",
      "text/plain": [
       "<Figure size 432x288 with 1 Axes>"
      ]
     },
     "metadata": {},
     "output_type": "display_data"
    },
    {
     "name": "stdout",
     "output_type": "stream",
     "text": [
      "version\n"
     ]
    },
    {
     "data": {
      "text/plain": [
       "<matplotlib.axes._subplots.AxesSubplot at 0x1508f999bb0>"
      ]
     },
     "execution_count": 6,
     "metadata": {},
     "output_type": "execute_result"
    },
    {
     "data": {
      "image/png": "[encoded data removed]",
      "text/plain": [
       "<Figure size 432x288 with 1 Axes>"
      ]
     },
     "metadata": {},
     "output_type": "display_data"
    },
    {
     "name": "stdout",
     "output_type": "stream",
     "text": [
      "location\n"
     ]
    },
    {
     "data": {
      "text/plain": [
       "<matplotlib.axes._subplots.AxesSubplot at 0x150975cfc10>"
      ]
     },
     "execution_count": 6,
     "metadata": {},
     "output_type": "execute_result"
    },
    {
     "data": {
      "image/png": "[encoded data removed]",
      "text/plain": [
       "<Figure size 432x288 with 1 Axes>"
      ]
     },
     "metadata": {},
     "output_type": "display_data"
    },
    {
     "name": "stdout",
     "output_type": "stream",
     "text": [
      "cus_type\n"
     ]
    },
    {
     "data": {
      "text/plain": [
       "<matplotlib.axes._subplots.AxesSubplot at 0x15097628a90>"
      ]
     },
     "execution_count": 6,
     "metadata": {},
     "output_type": "execute_result"
    },
    {
     "data": {
      "image/png": "[encoded data removed]",
      "text/plain": [
       "<Figure size 432x288 with 1 Axes>"
      ]
     },
     "metadata": {},
     "output_type": "display_data"
    },
    {
     "name": "stdout",
     "output_type": "stream",
     "text": [
      "16\n"
     ]
    }
   ],
   "source": [
    "# 把各个特征的分布都用直方图画一下(除了fea_hash、fea1_hash、label)\n",
    "\n",
    "fea_plt = train.columns.tolist()\n",
    "fea_plt.remove('label')\n",
    "fea_plt.remove('fea_hash')\n",
    "fea_plt.remove('fea1_hash')\n",
    "\n",
    "for i in range(len(fea_plt)):\n",
    "    print('{}'.format(fea_plt[i]))\n",
    "    train[fea_plt[i]].hist()\n",
    "    plt.show();\n",
    "print(i)    \n",
    "\n",
    "\n",
    "\n",
    "# plt.figure()\n",
    "# fig, axs = plt.subplots(4, 5, figsize=(18, 6))\n",
    "\n",
    "# n = 0\n",
    "# for i in range(4):\n",
    "#     x=0\n",
    "#     for j in range(5):   \n",
    "#         axs[i][j].hist(train[fea_plt[x+n*5]])\n",
    "#         axs[i][j].set_title('{}'.format(fea_plt[x+n*5]))\n",
    "#         x+=1\n",
    "#     n+=1\n",
    "\n",
    "# fig.tight_layout();\n"
   ]
  },
  {
   "cell_type": "code",
   "execution_count": 7,
   "metadata": {},
   "outputs": [
    {
     "data": {
      "text/plain": [
       "<Figure size 864x720 with 0 Axes>"
      ]
     },
     "execution_count": 7,
     "metadata": {},
     "output_type": "execute_result"
    },
    {
     "data": {
      "text/plain": [
       "<matplotlib.axes._subplots.AxesSubplot at 0x150e81c93a0>"
      ]
     },
     "execution_count": 7,
     "metadata": {},
     "output_type": "execute_result"
    },
    {
     "name": "stdout",
     "output_type": "stream",
     "text": [
      "与label的相关性：\n"
     ]
    },
    {
     "data": {
      "text/plain": [
       "fea1_hash    -0.159327\n",
       "package      -0.143005\n",
       "android_id   -0.087281\n",
       "cus_type     -0.072496\n",
       "location     -0.027447\n",
       "media_id     -0.027160\n",
       "timestamp    -0.011059\n",
       "sid           0.009815\n",
       "dev_ppi       0.015442\n",
       "dev_width     0.055805\n",
       "ntt           0.064319\n",
       "carrier       0.080065\n",
       "dev_height    0.090912\n",
       "apptype       0.109656\n",
       "label         1.000000\n",
       "Name: label, dtype: float64"
      ]
     },
     "execution_count": 7,
     "metadata": {},
     "output_type": "execute_result"
    },
    {
     "data": {
      "image/png": "[encoded data removed]",
      "text/plain": [
       "<Figure size 864x720 with 2 Axes>"
      ]
     },
     "metadata": {},
     "output_type": "display_data"
    }
   ],
   "source": [
    "plt.figure(figsize=(12, 10))\n",
    "sns.heatmap(train.corr(),linewidths = 0.05);\n",
    "\n",
    "# 少了fea_hash，发现这列是str，并且有些奇怪的值\n",
    "print('与label的相关性：')\n",
    "train.corr().label.sort_values()"
   ]
  },
  {
   "cell_type": "code",
   "execution_count": 8,
   "metadata": {},
   "outputs": [
    {
     "data": {
      "text/plain": [
       "('android_id', 362258)"
      ]
     },
     "execution_count": 8,
     "metadata": {},
     "output_type": "execute_result"
    },
    {
     "data": {
      "text/plain": [
       "('apptype', 89)"
      ]
     },
     "execution_count": 8,
     "metadata": {},
     "output_type": "execute_result"
    },
    {
     "data": {
      "text/plain": [
       "('carrier', 5)"
      ]
     },
     "execution_count": 8,
     "metadata": {},
     "output_type": "execute_result"
    },
    {
     "data": {
      "text/plain": [
       "('dev_height', 798)"
      ]
     },
     "execution_count": 8,
     "metadata": {},
     "output_type": "execute_result"
    },
    {
     "data": {
      "text/plain": [
       "('dev_ppi', 92)"
      ]
     },
     "execution_count": 8,
     "metadata": {},
     "output_type": "execute_result"
    },
    {
     "data": {
      "text/plain": [
       "('dev_width', 346)"
      ]
     },
     "execution_count": 8,
     "metadata": {},
     "output_type": "execute_result"
    },
    {
     "data": {
      "text/plain": [
       "('label', 2)"
      ]
     },
     "execution_count": 8,
     "metadata": {},
     "output_type": "execute_result"
    },
    {
     "data": {
      "text/plain": [
       "('lan', 21)"
      ]
     },
     "execution_count": 8,
     "metadata": {},
     "output_type": "execute_result"
    },
    {
     "data": {
      "text/plain": [
       "('media_id', 284)"
      ]
     },
     "execution_count": 8,
     "metadata": {},
     "output_type": "execute_result"
    },
    {
     "data": {
      "text/plain": [
       "('ntt', 8)"
      ]
     },
     "execution_count": 8,
     "metadata": {},
     "output_type": "execute_result"
    },
    {
     "data": {
      "text/plain": [
       "('os', 2)"
      ]
     },
     "execution_count": 8,
     "metadata": {},
     "output_type": "execute_result"
    },
    {
     "data": {
      "text/plain": [
       "('osv', 154)"
      ]
     },
     "execution_count": 8,
     "metadata": {},
     "output_type": "execute_result"
    },
    {
     "data": {
      "text/plain": [
       "('package', 1950)"
      ]
     },
     "execution_count": 8,
     "metadata": {},
     "output_type": "execute_result"
    },
    {
     "data": {
      "text/plain": [
       "('sid', 500000)"
      ]
     },
     "execution_count": 8,
     "metadata": {},
     "output_type": "execute_result"
    },
    {
     "data": {
      "text/plain": [
       "('timestamp', 500000)"
      ]
     },
     "execution_count": 8,
     "metadata": {},
     "output_type": "execute_result"
    },
    {
     "data": {
      "text/plain": [
       "('version', 22)"
      ]
     },
     "execution_count": 8,
     "metadata": {},
     "output_type": "execute_result"
    },
    {
     "data": {
      "text/plain": [
       "('fea_hash', 402980)"
      ]
     },
     "execution_count": 8,
     "metadata": {},
     "output_type": "execute_result"
    },
    {
     "data": {
      "text/plain": [
       "('location', 332)"
      ]
     },
     "execution_count": 8,
     "metadata": {},
     "output_type": "execute_result"
    },
    {
     "data": {
      "text/plain": [
       "('fea1_hash', 4959)"
      ]
     },
     "execution_count": 8,
     "metadata": {},
     "output_type": "execute_result"
    },
    {
     "data": {
      "text/plain": [
       "('cus_type', 58)"
      ]
     },
     "execution_count": 8,
     "metadata": {},
     "output_type": "execute_result"
    }
   ],
   "source": [
    "# 特征取值类别\n",
    "\n",
    "for col in train.columns:\n",
    "    col,train[col].nunique()"
   ]
  },
  {
   "cell_type": "markdown",
   "metadata": {},
   "source": [
    "特征处理\n",
    "\n",
    "osv、version、timestamp、fea_hash、fea1_hash"
   ]
  },
  {
   "cell_type": "code",
   "execution_count": 9,
   "metadata": {},
   "outputs": [
    {
     "data": {
      "text/plain": [
       "array(['9', '8.1', '8.1.0', '8.0.0', '5.1', '9.0.0', '7.1.1', '5.1.1',\n",
       "       '7.8.7', '4.4.4', nan, '6.0', '6.0.1', '3.9.0', 'Android_8.1.0',\n",
       "       '7.0', '7.9.2', 'Android_9', '7.9.0', '7.1.2', '3.8.6', '5.1.0',\n",
       "       '9.0', '7.7.7', '6.0.0', '5.0.2', 'Android_6.0.1', '7.0.0',\n",
       "       '6.0_23', '4.2.2', '7.1', '8.0', '4.3', 'Android_8.0.0', '4.4.2',\n",
       "       '4.1', 'Android_7.1.1', '5.0', 'Android_5.1.1', '2.3', '5.0.0',\n",
       "       '7.8.0', '5.0.1', '4.4', '7.8.6', 'Android_5.1', 'Android_7.1.2',\n",
       "       'Android_4.4.4', '8.0.1', '3.1.1', '7.7.2', '6.1', '3.8.4',\n",
       "       '7.8.9', '7.7.5', '7.6.8', 'Android_7.0', '7.8.4', '7', '7.7.3',\n",
       "       '7.1.0', '9.1', '4.1.1', 'Android_4.4.2', '3.8.0', '6.1.2',\n",
       "       '7.2.1', '7.6.9', '3.7.8', '7.8.2', '8', '7910', '7.6.4', '7.8.5',\n",
       "       '2.2.3', '5.2', 'Android_6.0', '4.2.1', '10.3.3', '4.0.2', '7.8.8',\n",
       "       '4.4.3', '21100', '7.7.0', '4.0.3', '4.0.4', '5', '2.3.6', '6.1.0',\n",
       "       '21000', '4.3.0', '4.1.2', '4.2', '7.6.7', '9.0.5', '4.4.2_19',\n",
       "       '3.8.3', '4.3.3', '4.4.5', '3.7.6', '2.3.5', '7.1.3', '3.0.3',\n",
       "       'Android_4.3', '6.2.1', '6.0 十核2.0G_HD', 'Android_5.0', '5.2.0',\n",
       "       '5.1_22', '6.0.1_19', '7930', 'Android_5.0.2', '4.2.3.2',\n",
       "       'Android 5.12', '4.4.0', '7.7.4', '6.0.2', '4.3.1', '2.3.7',\n",
       "       '5.3.0-FL2-20180717.9010', 'Android_4.1.2',\n",
       "       '6.1.0-RS-20190305.1125', '71200', '6', '4.4W', '2.1.2', '7.6.6',\n",
       "       '2.3.4', '3.2', '11', '5.1.1_22', '4', '5.3.0',\n",
       "       '5.1.1-F-20180719.9007', 'Android_5.0.1', '7.3.1', 'Android_4.2.2',\n",
       "       '8.0.2', '9.1.0', '3.2.0-FL2-20180726.9015', '5.3',\n",
       "       'f073b_changxiang_v01_b1b8_20180915', 'Android_4.4.3',\n",
       "       'Android 7.1', '4.0', '%E6%B1%9F%E7%81%B5OS+5.0', '5.0_21',\n",
       "       '2.0.1', 'Android 4.2.9', 'Android_4.2.1', '7920', '5.0.3',\n",
       "       '2.9.2', 'Android 4.3.1', '2.2.2', 'Android_4.1.1', '6.0.1_22',\n",
       "       '4.4.6', 'Android_3.2.0-FL2-20180726.9015', '71300',\n",
       "       'Android 4.0.3', 'Android_7.0.0', '12.0', 'Android_4.0.4',\n",
       "       'GIONEE_YNGA'], dtype=object)"
      ]
     },
     "execution_count": 9,
     "metadata": {},
     "output_type": "execute_result"
    }
   ],
   "source": [
    "data = pd.concat([train,test])\n",
    "\n",
    "data.osv.unique()"
   ]
  },
  {
   "cell_type": "code",
   "execution_count": 10,
   "metadata": {},
   "outputs": [
    {
     "data": {
      "text/plain": [
       "array([  900,   810,   800,   510,   711,   511,   787,   444,   600,\n",
       "         601,   390,   700,   792,   790,   712,   386,   777,   502,\n",
       "        6023,   422,   710,   430,   442,   410,   500,   230,   780,\n",
       "         501,   440,   786,   801,   311,   772,   610,   384,   789,\n",
       "         775,   768,   784,   773,   910,   411,   380,   612,   721,\n",
       "         769,   378,   782,  7910,   764,   785,   223,   520,   421,\n",
       "        1033,   402,   788,   443, 21100,   770,   403,   404,   236,\n",
       "       21000,   412,   420,   767,   905, 44219,   383,   433,   445,\n",
       "         376,   235,   713,   303,   621,  5122, 60119,  7930,  4232,\n",
       "         512,   774,   602,   431,   237,   530, 71200,   212,   766,\n",
       "         234,   320,   110, 51122,   400,   731,   802,  5021,   201,\n",
       "         429,  7920,   503,   292,   222, 60122,   446, 71300,   120],\n",
       "      dtype=int64)"
      ]
     },
     "execution_count": 10,
     "metadata": {},
     "output_type": "execute_result"
    }
   ],
   "source": [
    "def handle_osv(osv):\n",
    "    osv = str(osv).replace('.','').replace('W','').replace('Android_','').replace('Android', '').replace('十核20G_HD', '').replace(' ','')\n",
    "    if osv=='nan' or osv=='GIONEE_YNGA': # 这2个值的前面的取值都为8.1.0\n",
    "        result = 810\n",
    "    elif osv=='f073b_changxiang_v01_b1b8_20180915':\n",
    "        result = 810\n",
    "    elif osv=='%E6%B1%9F%E7%81%B5OS+50':\n",
    "        result=500\n",
    "    elif osv.count('-')>0:\n",
    "        result = int(osv.split('-')[0])\n",
    "    else:\n",
    "        result = int(osv)\n",
    "    \n",
    "    if result<10:\n",
    "        result*=100\n",
    "    elif result<100:\n",
    "        result*=10\n",
    "    \n",
    "    return int(result)\n",
    "\n",
    "\n",
    "\n",
    "\n",
    "data['osv'] = data['osv'].apply(handle_osv)     \n",
    "data['osv'].unique()"
   ]
  },
  {
   "cell_type": "code",
   "execution_count": 11,
   "metadata": {},
   "outputs": [
    {
     "data": {
      "text/plain": [
       "array([ 8,  4,  0,  5,  9,  7,  3,  1,  6, 11,  2, 10, 15, 50, 20],\n",
       "      dtype=int64)"
      ]
     },
     "execution_count": 11,
     "metadata": {},
     "output_type": "execute_result"
    }
   ],
   "source": [
    "def handle_version(version):\n",
    "    version = str(version).replace(' ','').replace('v','').replace('V','').replace('GA','').replace('P_Final_','').replace('GA','')\n",
    "    return int(version)\n",
    "\n",
    "data['version'] = data['version'].apply(handle_version)\n",
    "data['version'].unique()\n",
    "    "
   ]
  },
  {
   "cell_type": "code",
   "execution_count": 12,
   "metadata": {},
   "outputs": [
    {
     "data": {
      "text/plain": [
       "array([24, 16, 15,  4, 21, 22,  3, 14,  2,  5,  0,  6,  1, 23, 17,  7, 19,\n",
       "       12, 18, 10, 13, 11,  8, 20,  9])"
      ]
     },
     "execution_count": 12,
     "metadata": {},
     "output_type": "execute_result"
    }
   ],
   "source": [
    "from sklearn.preprocessing import LabelEncoder\n",
    "\n",
    "LabelEncoder= LabelEncoder()\n",
    "data['lan']=LabelEncoder.fit_transform(data['lan'])\n",
    "\n",
    "data['lan'].unique()"
   ]
  },
  {
   "cell_type": "code",
   "execution_count": 13,
   "metadata": {},
   "outputs": [
    {
     "data": {
      "text/html": [
       "<div>\n",
       "<style scoped>\n",
       "    .dataframe tbody tr th:only-of-type {\n",
       "        vertical-align: middle;\n",
       "    }\n",
       "\n",
       "    .dataframe tbody tr th {\n",
       "        vertical-align: top;\n",
       "    }\n",
       "\n",
       "    .dataframe thead th {\n",
       "        text-align: right;\n",
       "    }\n",
       "</style>\n",
       "<table border=\"1\" class=\"dataframe\">\n",
       "  <thead>\n",
       "    <tr style=\"text-align: right;\">\n",
       "      <th></th>\n",
       "      <th>android_id</th>\n",
       "      <th>apptype</th>\n",
       "      <th>carrier</th>\n",
       "      <th>dev_height</th>\n",
       "      <th>dev_ppi</th>\n",
       "      <th>dev_width</th>\n",
       "      <th>label</th>\n",
       "      <th>lan</th>\n",
       "      <th>media_id</th>\n",
       "      <th>ntt</th>\n",
       "      <th>...</th>\n",
       "      <th>fea_hash</th>\n",
       "      <th>location</th>\n",
       "      <th>fea1_hash</th>\n",
       "      <th>cus_type</th>\n",
       "      <th>year</th>\n",
       "      <th>month</th>\n",
       "      <th>day</th>\n",
       "      <th>hour</th>\n",
       "      <th>minute</th>\n",
       "      <th>weekday</th>\n",
       "    </tr>\n",
       "  </thead>\n",
       "  <tbody>\n",
       "    <tr>\n",
       "      <th>0</th>\n",
       "      <td>316361</td>\n",
       "      <td>1199</td>\n",
       "      <td>46000.0</td>\n",
       "      <td>0.0</td>\n",
       "      <td>0.0</td>\n",
       "      <td>0.0</td>\n",
       "      <td>1.0</td>\n",
       "      <td>24</td>\n",
       "      <td>104</td>\n",
       "      <td>6.0</td>\n",
       "      <td>...</td>\n",
       "      <td>2135019403</td>\n",
       "      <td>0</td>\n",
       "      <td>2329670524</td>\n",
       "      <td>601</td>\n",
       "      <td>2019</td>\n",
       "      <td>6</td>\n",
       "      <td>7</td>\n",
       "      <td>15</td>\n",
       "      <td>32</td>\n",
       "      <td>4</td>\n",
       "    </tr>\n",
       "    <tr>\n",
       "      <th>1</th>\n",
       "      <td>135939</td>\n",
       "      <td>893</td>\n",
       "      <td>0.0</td>\n",
       "      <td>0.0</td>\n",
       "      <td>0.0</td>\n",
       "      <td>0.0</td>\n",
       "      <td>1.0</td>\n",
       "      <td>24</td>\n",
       "      <td>19</td>\n",
       "      <td>6.0</td>\n",
       "      <td>...</td>\n",
       "      <td>2782306428</td>\n",
       "      <td>1</td>\n",
       "      <td>2864801071</td>\n",
       "      <td>1000</td>\n",
       "      <td>2019</td>\n",
       "      <td>6</td>\n",
       "      <td>8</td>\n",
       "      <td>19</td>\n",
       "      <td>40</td>\n",
       "      <td>5</td>\n",
       "    </tr>\n",
       "    <tr>\n",
       "      <th>2</th>\n",
       "      <td>399254</td>\n",
       "      <td>821</td>\n",
       "      <td>0.0</td>\n",
       "      <td>760.0</td>\n",
       "      <td>0.0</td>\n",
       "      <td>360.0</td>\n",
       "      <td>1.0</td>\n",
       "      <td>24</td>\n",
       "      <td>559</td>\n",
       "      <td>0.0</td>\n",
       "      <td>...</td>\n",
       "      <td>1392806005</td>\n",
       "      <td>2</td>\n",
       "      <td>628911675</td>\n",
       "      <td>696</td>\n",
       "      <td>2019</td>\n",
       "      <td>6</td>\n",
       "      <td>6</td>\n",
       "      <td>23</td>\n",
       "      <td>58</td>\n",
       "      <td>3</td>\n",
       "    </tr>\n",
       "    <tr>\n",
       "      <th>3</th>\n",
       "      <td>68983</td>\n",
       "      <td>1004</td>\n",
       "      <td>46000.0</td>\n",
       "      <td>2214.0</td>\n",
       "      <td>0.0</td>\n",
       "      <td>1080.0</td>\n",
       "      <td>0.0</td>\n",
       "      <td>24</td>\n",
       "      <td>129</td>\n",
       "      <td>2.0</td>\n",
       "      <td>...</td>\n",
       "      <td>3562553457</td>\n",
       "      <td>3</td>\n",
       "      <td>1283809327</td>\n",
       "      <td>753</td>\n",
       "      <td>2019</td>\n",
       "      <td>6</td>\n",
       "      <td>9</td>\n",
       "      <td>8</td>\n",
       "      <td>59</td>\n",
       "      <td>6</td>\n",
       "    </tr>\n",
       "    <tr>\n",
       "      <th>4</th>\n",
       "      <td>288999</td>\n",
       "      <td>1076</td>\n",
       "      <td>46000.0</td>\n",
       "      <td>2280.0</td>\n",
       "      <td>0.0</td>\n",
       "      <td>1080.0</td>\n",
       "      <td>1.0</td>\n",
       "      <td>16</td>\n",
       "      <td>64</td>\n",
       "      <td>2.0</td>\n",
       "      <td>...</td>\n",
       "      <td>2364522023</td>\n",
       "      <td>4</td>\n",
       "      <td>1510695983</td>\n",
       "      <td>582</td>\n",
       "      <td>2019</td>\n",
       "      <td>6</td>\n",
       "      <td>7</td>\n",
       "      <td>8</td>\n",
       "      <td>28</td>\n",
       "      <td>4</td>\n",
       "    </tr>\n",
       "  </tbody>\n",
       "</table>\n",
       "<p>5 rows × 26 columns</p>\n",
       "</div>"
      ],
      "text/plain": [
       "   android_id  apptype  carrier  dev_height  dev_ppi  dev_width  label  lan  \\\n",
       "0      316361     1199  46000.0         0.0      0.0        0.0    1.0   24   \n",
       "1      135939      893      0.0         0.0      0.0        0.0    1.0   24   \n",
       "2      399254      821      0.0       760.0      0.0      360.0    1.0   24   \n",
       "3       68983     1004  46000.0      2214.0      0.0     1080.0    0.0   24   \n",
       "4      288999     1076  46000.0      2280.0      0.0     1080.0    1.0   16   \n",
       "\n",
       "   media_id  ntt  ...    fea_hash  location   fea1_hash  cus_type  year  \\\n",
       "0       104  6.0  ...  2135019403         0  2329670524       601  2019   \n",
       "1        19  6.0  ...  2782306428         1  2864801071      1000  2019   \n",
       "2       559  0.0  ...  1392806005         2   628911675       696  2019   \n",
       "3       129  2.0  ...  3562553457         3  1283809327       753  2019   \n",
       "4        64  2.0  ...  2364522023         4  1510695983       582  2019   \n",
       "\n",
       "   month day  hour  minute  weekday  \n",
       "0      6   7    15      32        4  \n",
       "1      6   8    19      40        5  \n",
       "2      6   6    23      58        3  \n",
       "3      6   9     8      59        6  \n",
       "4      6   7     8      28        4  \n",
       "\n",
       "[5 rows x 26 columns]"
      ]
     },
     "execution_count": 13,
     "metadata": {},
     "output_type": "execute_result"
    }
   ],
   "source": [
    "import datetime\n",
    "data['timestamp'] = data['timestamp'].apply(lambda x : datetime.datetime.fromtimestamp(x/1000))\n",
    "\n",
    "data['year']= data['timestamp'].dt.year\n",
    "data['month']= data['timestamp'].dt.month\n",
    "data['day']= data['timestamp'].dt.day\n",
    "data['hour']= data['timestamp'].dt.hour\n",
    "data['minute']= data['timestamp'].dt.minute\n",
    "data['weekday']= data['timestamp'].dt.weekday\n",
    "\n",
    "data.head()"
   ]
  },
  {
   "cell_type": "code",
   "execution_count": 14,
   "metadata": {},
   "outputs": [
    {
     "data": {
      "text/plain": [
       "0.10     9.0\n",
       "0.20     9.0\n",
       "0.50    10.0\n",
       "0.75    10.0\n",
       "0.95    10.0\n",
       "Name: fea_hash, dtype: float64"
      ]
     },
     "execution_count": 14,
     "metadata": {},
     "output_type": "execute_result"
    }
   ],
   "source": [
    "# fea_hash 有5w多个不同的取值,大多数就10位，大于10位的就处理成-1\n",
    "\n",
    "train['fea_hash'].apply(len).quantile([.1,.2,.5,.75,.95])\n",
    "data['fea_hash'] = data['fea_hash'].map(lambda i:-1 if len(str(i))>10 else int(i))\n",
    "data['fea_hash_len'] = data['fea_hash'].map(lambda i:len(str(i)))"
   ]
  },
  {
   "cell_type": "code",
   "execution_count": 15,
   "metadata": {},
   "outputs": [
    {
     "data": {
      "text/plain": [
       "0.10     9.0\n",
       "0.20     9.0\n",
       "0.50    10.0\n",
       "0.75    10.0\n",
       "0.95    10.0\n",
       "Name: fea1_hash, dtype: float64"
      ]
     },
     "execution_count": 15,
     "metadata": {},
     "output_type": "execute_result"
    }
   ],
   "source": [
    "# fea1_hash 大多数就10位，大于10位的就处理成-1\n",
    "\n",
    "train['fea1_hash'].astype('str').map(len).quantile([.1,.2,.5,.75,.95])\n",
    "data['fea1_hash'] = data['fea1_hash'].map(lambda i:-1 if len(str(i))>10 else int(i))\n",
    "data['fea1_hash_len'] = data['fea1_hash'].map(lambda i:len(str(i)))"
   ]
  },
  {
   "cell_type": "code",
   "execution_count": 20,
   "metadata": {},
   "outputs": [],
   "source": [
    "# # os处理\n",
    "\n",
    "# data['os'] = LabelEncoder.fit_transform(data.os)\n",
    "\n",
    "data['osv_ver'] = data['osv'] - data['version']"
   ]
  },
  {
   "cell_type": "code",
   "execution_count": 21,
   "metadata": {},
   "outputs": [
    {
     "data": {
      "text/html": [
       "<div>\n",
       "<style scoped>\n",
       "    .dataframe tbody tr th:only-of-type {\n",
       "        vertical-align: middle;\n",
       "    }\n",
       "\n",
       "    .dataframe tbody tr th {\n",
       "        vertical-align: top;\n",
       "    }\n",
       "\n",
       "    .dataframe thead th {\n",
       "        text-align: right;\n",
       "    }\n",
       "</style>\n",
       "<table border=\"1\" class=\"dataframe\">\n",
       "  <thead>\n",
       "    <tr style=\"text-align: right;\">\n",
       "      <th></th>\n",
       "      <th>android_id</th>\n",
       "      <th>apptype</th>\n",
       "      <th>carrier</th>\n",
       "      <th>dev_height</th>\n",
       "      <th>dev_ppi</th>\n",
       "      <th>dev_width</th>\n",
       "      <th>label</th>\n",
       "      <th>lan</th>\n",
       "      <th>media_id</th>\n",
       "      <th>ntt</th>\n",
       "      <th>...</th>\n",
       "      <th>cus_type</th>\n",
       "      <th>year</th>\n",
       "      <th>month</th>\n",
       "      <th>day</th>\n",
       "      <th>hour</th>\n",
       "      <th>minute</th>\n",
       "      <th>weekday</th>\n",
       "      <th>fea_hash_len</th>\n",
       "      <th>fea1_hash_len</th>\n",
       "      <th>osv_ver</th>\n",
       "    </tr>\n",
       "  </thead>\n",
       "  <tbody>\n",
       "    <tr>\n",
       "      <th>0</th>\n",
       "      <td>316361</td>\n",
       "      <td>1199</td>\n",
       "      <td>46000.0</td>\n",
       "      <td>0.0</td>\n",
       "      <td>0.0</td>\n",
       "      <td>0.0</td>\n",
       "      <td>1.0</td>\n",
       "      <td>24</td>\n",
       "      <td>104</td>\n",
       "      <td>6.0</td>\n",
       "      <td>...</td>\n",
       "      <td>601</td>\n",
       "      <td>2019</td>\n",
       "      <td>6</td>\n",
       "      <td>7</td>\n",
       "      <td>15</td>\n",
       "      <td>32</td>\n",
       "      <td>4</td>\n",
       "      <td>10</td>\n",
       "      <td>10</td>\n",
       "      <td>892</td>\n",
       "    </tr>\n",
       "    <tr>\n",
       "      <th>1</th>\n",
       "      <td>135939</td>\n",
       "      <td>893</td>\n",
       "      <td>0.0</td>\n",
       "      <td>0.0</td>\n",
       "      <td>0.0</td>\n",
       "      <td>0.0</td>\n",
       "      <td>1.0</td>\n",
       "      <td>24</td>\n",
       "      <td>19</td>\n",
       "      <td>6.0</td>\n",
       "      <td>...</td>\n",
       "      <td>1000</td>\n",
       "      <td>2019</td>\n",
       "      <td>6</td>\n",
       "      <td>8</td>\n",
       "      <td>19</td>\n",
       "      <td>40</td>\n",
       "      <td>5</td>\n",
       "      <td>10</td>\n",
       "      <td>10</td>\n",
       "      <td>806</td>\n",
       "    </tr>\n",
       "    <tr>\n",
       "      <th>2</th>\n",
       "      <td>399254</td>\n",
       "      <td>821</td>\n",
       "      <td>0.0</td>\n",
       "      <td>760.0</td>\n",
       "      <td>0.0</td>\n",
       "      <td>360.0</td>\n",
       "      <td>1.0</td>\n",
       "      <td>24</td>\n",
       "      <td>559</td>\n",
       "      <td>0.0</td>\n",
       "      <td>...</td>\n",
       "      <td>696</td>\n",
       "      <td>2019</td>\n",
       "      <td>6</td>\n",
       "      <td>6</td>\n",
       "      <td>23</td>\n",
       "      <td>58</td>\n",
       "      <td>3</td>\n",
       "      <td>10</td>\n",
       "      <td>9</td>\n",
       "      <td>810</td>\n",
       "    </tr>\n",
       "    <tr>\n",
       "      <th>3</th>\n",
       "      <td>68983</td>\n",
       "      <td>1004</td>\n",
       "      <td>46000.0</td>\n",
       "      <td>2214.0</td>\n",
       "      <td>0.0</td>\n",
       "      <td>1080.0</td>\n",
       "      <td>0.0</td>\n",
       "      <td>24</td>\n",
       "      <td>129</td>\n",
       "      <td>2.0</td>\n",
       "      <td>...</td>\n",
       "      <td>753</td>\n",
       "      <td>2019</td>\n",
       "      <td>6</td>\n",
       "      <td>9</td>\n",
       "      <td>8</td>\n",
       "      <td>59</td>\n",
       "      <td>6</td>\n",
       "      <td>10</td>\n",
       "      <td>10</td>\n",
       "      <td>810</td>\n",
       "    </tr>\n",
       "    <tr>\n",
       "      <th>4</th>\n",
       "      <td>288999</td>\n",
       "      <td>1076</td>\n",
       "      <td>46000.0</td>\n",
       "      <td>2280.0</td>\n",
       "      <td>0.0</td>\n",
       "      <td>1080.0</td>\n",
       "      <td>1.0</td>\n",
       "      <td>16</td>\n",
       "      <td>64</td>\n",
       "      <td>2.0</td>\n",
       "      <td>...</td>\n",
       "      <td>582</td>\n",
       "      <td>2019</td>\n",
       "      <td>6</td>\n",
       "      <td>7</td>\n",
       "      <td>8</td>\n",
       "      <td>28</td>\n",
       "      <td>4</td>\n",
       "      <td>10</td>\n",
       "      <td>10</td>\n",
       "      <td>795</td>\n",
       "    </tr>\n",
       "  </tbody>\n",
       "</table>\n",
       "<p>5 rows × 29 columns</p>\n",
       "</div>"
      ],
      "text/plain": [
       "   android_id  apptype  carrier  dev_height  dev_ppi  dev_width  label  lan  \\\n",
       "0      316361     1199  46000.0         0.0      0.0        0.0    1.0   24   \n",
       "1      135939      893      0.0         0.0      0.0        0.0    1.0   24   \n",
       "2      399254      821      0.0       760.0      0.0      360.0    1.0   24   \n",
       "3       68983     1004  46000.0      2214.0      0.0     1080.0    0.0   24   \n",
       "4      288999     1076  46000.0      2280.0      0.0     1080.0    1.0   16   \n",
       "\n",
       "   media_id  ntt  ... cus_type  year  month  day hour  minute  weekday  \\\n",
       "0       104  6.0  ...      601  2019      6    7   15      32        4   \n",
       "1        19  6.0  ...     1000  2019      6    8   19      40        5   \n",
       "2       559  0.0  ...      696  2019      6    6   23      58        3   \n",
       "3       129  2.0  ...      753  2019      6    9    8      59        6   \n",
       "4        64  2.0  ...      582  2019      6    7    8      28        4   \n",
       "\n",
       "   fea_hash_len  fea1_hash_len  osv_ver  \n",
       "0            10             10      892  \n",
       "1            10             10      806  \n",
       "2            10              9      810  \n",
       "3            10             10      810  \n",
       "4            10             10      795  \n",
       "\n",
       "[5 rows x 29 columns]"
      ]
     },
     "execution_count": 21,
     "metadata": {},
     "output_type": "execute_result"
    }
   ],
   "source": [
    "data.head()"
   ]
  },
  {
   "cell_type": "code",
   "execution_count": 18,
   "metadata": {},
   "outputs": [],
   "source": [
    "def train_lgb_kfold(X_train, y_train, X_test, n_fold=5):\n",
    "    '''train lightgbm with k-fold split'''\n",
    "    gbms = []\n",
    "    kfold = StratifiedKFold(n_splits=n_fold, random_state=2021, shuffle=True)\n",
    "    oof_preds = np.zeros((X_train.shape[0],))\n",
    "    test_preds = np.zeros((X_test.shape[0],))\n",
    "\n",
    "    for fold, (train_index, val_index) in enumerate(kfold.split(X_train, y_train)):\n",
    "        X_tr, X_val, y_tr, y_val = X_train.iloc[train_index], X_train.iloc[val_index], y_train[train_index], y_train[val_index]\n",
    "        dtrain = lgb.Dataset(X_tr, y_tr)\n",
    "        dvalid = lgb.Dataset(X_val, y_val, reference=dtrain)\n",
    "\n",
    "        params = {\n",
    "            'objective': 'binary',\n",
    "            'metric': 'auc',\n",
    "            'num_leaves': 64,\n",
    "            'learning_rate': 0.02,\n",
    "            'min_data_in_leaf': 150,\n",
    "            'feature_fraction': 0.8,\n",
    "            'bagging_fraction': 0.7,\n",
    "            'n_jobs': -1,\n",
    "            'seed': 2021\n",
    "        }\n",
    "\n",
    "        gbm = lgb.train(params,\n",
    "                        dtrain,\n",
    "                        num_boost_round=100,\n",
    "                        valid_sets=[dtrain, dvalid],\n",
    "                        verbose_eval=50,\n",
    "                        early_stopping_rounds=20)\n",
    "\n",
    "        oof_preds[val_index] = gbm.predict(X_val, num_iteration=gbm.best_iteration)\n",
    "        test_preds += gbm.predict(X_test, num_iteration=gbm.best_iteration) / kfold.n_splits\n",
    "        gbms.append(gbm)\n",
    "\n",
    "    return gbms, oof_preds, test_preds\n",
    "\n"
   ]
  },
  {
   "cell_type": "code",
   "execution_count": 19,
   "metadata": {},
   "outputs": [],
   "source": [
    "def train_lgb(train, test, feat_cols, label_col, n_fold=10):\n",
    "    '''训练lightgbm'''\n",
    "    X_train = train[feat_cols]\n",
    "    y_train = train[label_col]\n",
    "    X_test = test[feat_cols]\n",
    "    gbms_lgb, oof_preds_lgb, test_preds_lgb = train_lgb_kfold(X_train, y_train, X_test, n_fold=n_fold)\n",
    "    \n",
    "    return gbms_lgb, oof_preds_lgb, test_preds_lgb\n"
   ]
  },
  {
   "cell_type": "code",
   "execution_count": 28,
   "metadata": {},
   "outputs": [],
   "source": [
    "train = data[data.label.notnull()]\n",
    "test = data[data.label.isnull()].drop(['label'],axis=1)\n",
    "\n",
    "\n",
    "# 获取time_diff\n",
    "start_time1 = train['timestamp'].min()\n",
    "train['timestamp_diff'] = train['timestamp']-start_time1\n",
    "train['timestamp_diff'] = train['timestamp_diff'].dt.days - train['timestamp_diff'].dt.seconds/3600/24\n",
    "\n",
    "start_time2 = test['timestamp'].min()\n",
    "test['timestamp_diff'] = test['timestamp']-start_time2\n",
    "test['timestamp_diff'] = test['timestamp_diff'].dt.days - test['timestamp_diff'].dt.seconds/3600/24\n",
    "\n"
   ]
  },
  {
   "cell_type": "code",
   "execution_count": null,
   "metadata": {},
   "outputs": [],
   "source": [
    "feat_cols = ['android_id', 'apptype', 'carrier', 'dev_height', 'dev_ppi',\n",
    "       'dev_width',  'lan', 'media_id', 'ntt', 'os', 'osv', 'package',\n",
    "       'sid',  'version', 'fea_hash', 'location', 'fea1_hash',\n",
    "       'cus_type', 'year', 'month', 'day', 'hour', 'minute', 'weekday',\n",
    "       'fea_hash_len', 'fea1_hash_len', 'osv_ver', 'timestamp_diff']"
   ]
  },
  {
   "cell_type": "code",
   "execution_count": 29,
   "metadata": {},
   "outputs": [
    {
     "name": "stdout",
     "output_type": "stream",
     "text": [
      "[LightGBM] [Info] Number of positive: 218016, number of negative: 231984\n",
      "[LightGBM] [Warning] Auto-choosing col-wise multi-threading, the overhead of testing was 0.016300 seconds.\n",
      "You can set `force_col_wise=true` to remove the overhead.\n",
      "[LightGBM] [Info] Total Bins 2390\n",
      "[LightGBM] [Info] Number of data points in the train set: 450000, number of used features: 23\n",
      "[LightGBM] [Info] [binary:BoostFromScore]: pavg=0.484480 -> initscore=-0.062100\n",
      "[LightGBM] [Info] Start training from score -0.062100\n",
      "Training until validation scores don't improve for 20 rounds\n",
      "[50]\ttraining's auc: 0.929453\tvalid_1's auc: 0.929688\n",
      "[100]\ttraining's auc: 0.932944\tvalid_1's auc: 0.933092\n",
      "Did not meet early stopping. Best iteration is:\n",
      "[100]\ttraining's auc: 0.932944\tvalid_1's auc: 0.933092\n",
      "[LightGBM] [Info] Number of positive: 218016, number of negative: 231984\n",
      "[LightGBM] [Warning] Auto-choosing row-wise multi-threading, the overhead of testing was 0.011667 seconds.\n",
      "You can set `force_row_wise=true` to remove the overhead.\n",
      "And if memory is not enough, you can set `force_col_wise=true`.\n",
      "[LightGBM] [Info] Total Bins 2422\n",
      "[LightGBM] [Info] Number of data points in the train set: 450000, number of used features: 23\n",
      "[LightGBM] [Info] [binary:BoostFromScore]: pavg=0.484480 -> initscore=-0.062100\n",
      "[LightGBM] [Info] Start training from score -0.062100\n",
      "Training until validation scores don't improve for 20 rounds\n",
      "[50]\ttraining's auc: 0.929525\tvalid_1's auc: 0.928234\n",
      "[100]\ttraining's auc: 0.933106\tvalid_1's auc: 0.931753\n",
      "Did not meet early stopping. Best iteration is:\n",
      "[100]\ttraining's auc: 0.933106\tvalid_1's auc: 0.931753\n",
      "[LightGBM] [Info] Number of positive: 218016, number of negative: 231984\n",
      "[LightGBM] [Warning] Auto-choosing col-wise multi-threading, the overhead of testing was 0.021627 seconds.\n",
      "You can set `force_col_wise=true` to remove the overhead.\n",
      "[LightGBM] [Info] Total Bins 2392\n",
      "[LightGBM] [Info] Number of data points in the train set: 450000, number of used features: 23\n",
      "[LightGBM] [Info] [binary:BoostFromScore]: pavg=0.484480 -> initscore=-0.062100\n",
      "[LightGBM] [Info] Start training from score -0.062100\n",
      "Training until validation scores don't improve for 20 rounds\n",
      "[50]\ttraining's auc: 0.929426\tvalid_1's auc: 0.928958\n",
      "[100]\ttraining's auc: 0.933005\tvalid_1's auc: 0.932328\n",
      "Did not meet early stopping. Best iteration is:\n",
      "[100]\ttraining's auc: 0.933005\tvalid_1's auc: 0.932328\n",
      "[LightGBM] [Info] Number of positive: 218016, number of negative: 231984\n",
      "[LightGBM] [Warning] Auto-choosing col-wise multi-threading, the overhead of testing was 0.020974 seconds.\n",
      "You can set `force_col_wise=true` to remove the overhead.\n",
      "[LightGBM] [Info] Total Bins 2457\n",
      "[LightGBM] [Info] Number of data points in the train set: 450000, number of used features: 23\n",
      "[LightGBM] [Info] [binary:BoostFromScore]: pavg=0.484480 -> initscore=-0.062100\n",
      "[LightGBM] [Info] Start training from score -0.062100\n",
      "Training until validation scores don't improve for 20 rounds\n",
      "[50]\ttraining's auc: 0.92937\tvalid_1's auc: 0.928246\n",
      "[100]\ttraining's auc: 0.933047\tvalid_1's auc: 0.931564\n",
      "Did not meet early stopping. Best iteration is:\n",
      "[100]\ttraining's auc: 0.933047\tvalid_1's auc: 0.931564\n",
      "[LightGBM] [Info] Number of positive: 218016, number of negative: 231984\n",
      "[LightGBM] [Warning] Auto-choosing col-wise multi-threading, the overhead of testing was 0.021101 seconds.\n",
      "You can set `force_col_wise=true` to remove the overhead.\n",
      "[LightGBM] [Info] Total Bins 2457\n",
      "[LightGBM] [Info] Number of data points in the train set: 450000, number of used features: 23\n",
      "[LightGBM] [Info] [binary:BoostFromScore]: pavg=0.484480 -> initscore=-0.062100\n",
      "[LightGBM] [Info] Start training from score -0.062100\n",
      "Training until validation scores don't improve for 20 rounds\n",
      "[50]\ttraining's auc: 0.929482\tvalid_1's auc: 0.927252\n",
      "[100]\ttraining's auc: 0.933012\tvalid_1's auc: 0.930921\n",
      "Did not meet early stopping. Best iteration is:\n",
      "[100]\ttraining's auc: 0.933012\tvalid_1's auc: 0.930921\n",
      "[LightGBM] [Info] Number of positive: 218016, number of negative: 231984\n",
      "[LightGBM] [Warning] Auto-choosing col-wise multi-threading, the overhead of testing was 0.015865 seconds.\n",
      "You can set `force_col_wise=true` to remove the overhead.\n",
      "[LightGBM] [Info] Total Bins 2405\n",
      "[LightGBM] [Info] Number of data points in the train set: 450000, number of used features: 23\n",
      "[LightGBM] [Info] [binary:BoostFromScore]: pavg=0.484480 -> initscore=-0.062100\n",
      "[LightGBM] [Info] Start training from score -0.062100\n",
      "Training until validation scores don't improve for 20 rounds\n",
      "[50]\ttraining's auc: 0.929469\tvalid_1's auc: 0.929285\n",
      "[100]\ttraining's auc: 0.932941\tvalid_1's auc: 0.932655\n",
      "Did not meet early stopping. Best iteration is:\n",
      "[100]\ttraining's auc: 0.932941\tvalid_1's auc: 0.932655\n",
      "[LightGBM] [Info] Number of positive: 218016, number of negative: 231984\n",
      "[LightGBM] [Warning] Auto-choosing col-wise multi-threading, the overhead of testing was 0.019624 seconds.\n",
      "You can set `force_col_wise=true` to remove the overhead.\n",
      "[LightGBM] [Info] Total Bins 2467\n",
      "[LightGBM] [Info] Number of data points in the train set: 450000, number of used features: 23\n",
      "[LightGBM] [Info] [binary:BoostFromScore]: pavg=0.484480 -> initscore=-0.062100\n",
      "[LightGBM] [Info] Start training from score -0.062100\n",
      "Training until validation scores don't improve for 20 rounds\n",
      "[50]\ttraining's auc: 0.929254\tvalid_1's auc: 0.931131\n",
      "[100]\ttraining's auc: 0.932729\tvalid_1's auc: 0.934684\n",
      "Did not meet early stopping. Best iteration is:\n",
      "[100]\ttraining's auc: 0.932729\tvalid_1's auc: 0.934684\n",
      "[LightGBM] [Info] Number of positive: 218016, number of negative: 231984\n",
      "[LightGBM] [Warning] Auto-choosing col-wise multi-threading, the overhead of testing was 0.018048 seconds.\n",
      "You can set `force_col_wise=true` to remove the overhead.\n",
      "[LightGBM] [Info] Total Bins 2429\n",
      "[LightGBM] [Info] Number of data points in the train set: 450000, number of used features: 23\n",
      "[LightGBM] [Info] [binary:BoostFromScore]: pavg=0.484480 -> initscore=-0.062100\n",
      "[LightGBM] [Info] Start training from score -0.062100\n",
      "Training until validation scores don't improve for 20 rounds\n",
      "[50]\ttraining's auc: 0.929651\tvalid_1's auc: 0.927728\n",
      "[100]\ttraining's auc: 0.933158\tvalid_1's auc: 0.931391\n",
      "Did not meet early stopping. Best iteration is:\n",
      "[100]\ttraining's auc: 0.933158\tvalid_1's auc: 0.931391\n",
      "[LightGBM] [Info] Number of positive: 218016, number of negative: 231984\n",
      "[LightGBM] [Warning] Auto-choosing col-wise multi-threading, the overhead of testing was 0.016387 seconds.\n",
      "You can set `force_col_wise=true` to remove the overhead.\n",
      "[LightGBM] [Info] Total Bins 2454\n",
      "[LightGBM] [Info] Number of data points in the train set: 450000, number of used features: 23\n",
      "[LightGBM] [Info] [binary:BoostFromScore]: pavg=0.484480 -> initscore=-0.062100\n",
      "[LightGBM] [Info] Start training from score -0.062100\n",
      "Training until validation scores don't improve for 20 rounds\n",
      "[50]\ttraining's auc: 0.929358\tvalid_1's auc: 0.929527\n",
      "[100]\ttraining's auc: 0.932863\tvalid_1's auc: 0.932986\n",
      "Did not meet early stopping. Best iteration is:\n",
      "[100]\ttraining's auc: 0.932863\tvalid_1's auc: 0.932986\n",
      "[LightGBM] [Info] Number of positive: 218016, number of negative: 231984\n",
      "[LightGBM] [Warning] Auto-choosing col-wise multi-threading, the overhead of testing was 0.017495 seconds.\n",
      "You can set `force_col_wise=true` to remove the overhead.\n",
      "[LightGBM] [Info] Total Bins 2434\n",
      "[LightGBM] [Info] Number of data points in the train set: 450000, number of used features: 23\n",
      "[LightGBM] [Info] [binary:BoostFromScore]: pavg=0.484480 -> initscore=-0.062100\n",
      "[LightGBM] [Info] Start training from score -0.062100\n",
      "Training until validation scores don't improve for 20 rounds\n",
      "[50]\ttraining's auc: 0.929218\tvalid_1's auc: 0.932044\n",
      "[100]\ttraining's auc: 0.93282\tvalid_1's auc: 0.935368\n",
      "Did not meet early stopping. Best iteration is:\n",
      "[100]\ttraining's auc: 0.93282\tvalid_1's auc: 0.935368\n"
     ]
    }
   ],
   "source": [
    "gbms_lgb, oof_preds_lgb, test_preds_lgb = train_lgb(train, test,\n",
    "                                                    feat_cols=feat_cols,\n",
    "                                                    label_col='label')\n"
   ]
  },
  {
   "cell_type": "code",
   "execution_count": 30,
   "metadata": {},
   "outputs": [],
   "source": [
    "# 划分阈值\n",
    "\n",
    "def gen_thres_new(df_train, oof_preds):\n",
    "    df_train['oof_preds'] = oof_preds\n",
    "    quantile_point = df_train['label'].mean() \n",
    "    thres = df_train['oof_preds'].quantile(1 - quantile_point) # 比如 0,1,1,1 mean=0.75 1-mean=0.25,也就是25%分位数取值为0\n",
    "\n",
    "    _thresh = []\n",
    "    for thres_item in np.arange(thres - 0.2, thres + 0.2, 0.01): #  按照理论阈值的上下0.2范围，0.01步长，找到最佳阈值，f1分数最高对应的阈值即为最佳阈值\n",
    "        _thresh.append(\n",
    "            [thres_item, f1_score(df_train['label'], np.where(oof_preds > thres_item, 1, 0), average='macro')])\n",
    "\n",
    "    _thresh = np.array(_thresh)\n",
    "    best_id = _thresh[:, 1].argmax() # 找到f1最高对应的行\n",
    "    best_thresh = _thresh[best_id][0] # 取出最佳阈值\n",
    "\n",
    "    print(\"阈值: {}\\n训练集的f1: {}\".format(best_thresh, _thresh[best_id][1]))\n",
    "    return best_thresh"
   ]
  },
  {
   "cell_type": "code",
   "execution_count": 32,
   "metadata": {},
   "outputs": [
    {
     "name": "stdout",
     "output_type": "stream",
     "text": [
      "阈值: 0.46830601551613943\n",
      "训练集的f1: 0.8759688534206158\n"
     ]
    }
   ],
   "source": [
    "lgb_thres =  gen_thres_new(train, oof_preds_lgb)"
   ]
  },
  {
   "cell_type": "code",
   "execution_count": 33,
   "metadata": {},
   "outputs": [
    {
     "name": "stdout",
     "output_type": "stream",
     "text": [
      "saving result to: ./result.csv\n",
      "done!\n"
     ]
    }
   ],
   "source": [
    "\n",
    "def gen_submit_file(df_test, test_preds, thres, save_path):\n",
    "    df_test['test_preds_binary'] = np.where(test_preds > thres, 1, 0)  \n",
    "    df_test_submit = df_test[['sid', 'test_preds_binary']]\n",
    "    df_test_submit.columns = ['sid', 'label']\n",
    "    print(f'saving result to: {save_path}')\n",
    "    df_test_submit.to_csv(save_path, index=False)\n",
    "    print('done!')\n",
    "    return df_test_submit\n",
    "\n",
    "\n",
    "\n",
    "df_test_res = pd.DataFrame({'sid': test['sid'],\n",
    "                                'test_preds_lgb': test_preds_lgb})\n",
    "\n",
    "df_test_res['lgb_rank'] = df_test_res['test_preds_lgb'].rank(pct=True)\n",
    "df_test_res['preds'] =  np.where(df_test_res['lgb_rank']>lgb_thres,1,0)\n",
    "\n",
    "# 结果产出\n",
    "df_submit = gen_submit_file(df_test_res, df_test_res['preds'], lgb_thres,\n",
    "                            save_path='./result.csv')"
   ]
  }
 ],
 "metadata": {
  "interpreter": {
   "hash": "8d86c190dfcadcdaa67edec4a1ea82702241987b5b1f320c920d3d4ca36fee5b"
  },
  "kernelspec": {
   "display_name": "Python 3.8.3 64-bit ('base': conda)",
   "language": "python",
   "name": "python3"
  },
  "language_info": {
   "codemirror_mode": {
    "name": "ipython",
    "version": 3
   },
   "file_extension": ".py",
   "mimetype": "text/x-python",
   "name": "python",
   "nbconvert_exporter": "python",
   "pygments_lexer": "ipython3",
   "version": "3.8.3"
  }
 },
 "nbformat": 4,
 "nbformat_minor": 4
}
