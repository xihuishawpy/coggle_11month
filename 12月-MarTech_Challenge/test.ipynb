{
 "cells": [
  {
   "cell_type": "code",
   "execution_count": 1,
   "metadata": {},
   "outputs": [],
   "source": [
    "import numpy as np\n",
    "import pandas as pd\n",
    "import matplotlib.pyplot as plt\n",
    "%matplotlib inline \n",
    "plt.style.use(\"ggplot\")      \n",
    "import seaborn as sns\n",
    "import warnings\n",
    "warnings.filterwarnings('ignore')\n",
    "from IPython.core.interactiveshell import InteractiveShell\n",
    "InteractiveShell.ast_node_interactivity = 'all'"
   ]
  },
  {
   "cell_type": "code",
   "execution_count": 6,
   "metadata": {},
   "outputs": [],
   "source": [
    "# 数据读取\n",
    "\n",
    "df = pd.read_csv('./data/train.csv')\n",
    "df.drop(['Unnamed: 0'],axis=1,inplace=True)"
   ]
  },
  {
   "cell_type": "code",
   "execution_count": 10,
   "metadata": {},
   "outputs": [
    {
     "data": {
      "text/plain": [
       "(   android_id  apptype  carrier  dev_height  dev_ppi  dev_width  label    lan  \\\n",
       " 0      316361     1199  46000.0         0.0      0.0        0.0      1    NaN   \n",
       " 1      135939      893      0.0         0.0      0.0        0.0      1    NaN   \n",
       " 2      399254      821      0.0       760.0      0.0      360.0      1    NaN   \n",
       " 3       68983     1004  46000.0      2214.0      0.0     1080.0      0    NaN   \n",
       " 4      288999     1076  46000.0      2280.0      0.0     1080.0      1  zh-CN   \n",
       " \n",
       "    media_id  ntt       os    osv  package      sid     timestamp version  \\\n",
       " 0       104  6.0  android      9       18  1438873  1.559893e+12       8   \n",
       " 1        19  6.0  android    8.1        0  1185582  1.559994e+12       4   \n",
       " 2       559  0.0  android  8.1.0        0  1555716  1.559837e+12       0   \n",
       " 3       129  2.0  android  8.1.0        0  1093419  1.560042e+12       0   \n",
       " 4        64  2.0  android  8.0.0        0  1400089  1.559867e+12       5   \n",
       " \n",
       "      fea_hash  location   fea1_hash  cus_type  \n",
       " 0  2135019403         0  2329670524       601  \n",
       " 1  2782306428         1  2864801071      1000  \n",
       " 2  1392806005         2   628911675       696  \n",
       " 3  3562553457         3  1283809327       753  \n",
       " 4  2364522023         4  1510695983       582  ,\n",
       " (500000, 20))"
      ]
     },
     "execution_count": 10,
     "metadata": {},
     "output_type": "execute_result"
    }
   ],
   "source": [
    "df.head(),df.shape"
   ]
  },
  {
   "cell_type": "code",
   "execution_count": null,
   "metadata": {},
   "outputs": [],
   "source": []
  }
 ],
 "metadata": {
  "interpreter": {
   "hash": "8d86c190dfcadcdaa67edec4a1ea82702241987b5b1f320c920d3d4ca36fee5b"
  },
  "kernelspec": {
   "display_name": "Python 3.8.3 64-bit ('base': conda)",
   "language": "python",
   "name": "python3"
  },
  "language_info": {
   "codemirror_mode": {
    "name": "ipython",
    "version": 3
   },
   "file_extension": ".py",
   "mimetype": "text/x-python",
   "name": "python",
   "nbconvert_exporter": "python",
   "pygments_lexer": "ipython3",
   "version": "3.8.3"
  }
 },
 "nbformat": 4,
 "nbformat_minor": 4
}
