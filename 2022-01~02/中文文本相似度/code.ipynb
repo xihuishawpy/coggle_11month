{
 "cells": [
  {
   "cell_type": "markdown",
   "metadata": {},
   "source": [
    "## 任务1：报名比赛，下载比赛数据集并完成读取\n",
    "\n",
    "- 步骤1 ：登录&报名比赛：https://aistudio.baidu.com/aistudio/competition/detail/45/0/task-definition\n",
    "- 步骤2 ：下载比赛数据集\n",
    "- 步骤3 ：使用Pandas完成数据读取。"
   ]
  },
  {
   "cell_type": "code",
   "execution_count": 43,
   "metadata": {},
   "outputs": [],
   "source": [
    "import numpy as np \n",
    "import pandas as pd \n",
    "import os\n",
    "import gc\n",
    "import matplotlib.pyplot as plt\n",
    "import seaborn as sns\n",
    "%matplotlib inline\n",
    "\n",
    "pal = sns.color_palette()"
   ]
  },
  {
   "cell_type": "code",
   "execution_count": 17,
   "metadata": {},
   "outputs": [
    {
     "name": "stderr",
     "output_type": "stream",
     "text": [
      "b'Skipping line 20746: expected 3 fields, saw 4\\nSkipping line 54107: expected 3 fields, saw 4\\nSkipping line 65083: expected 3 fields, saw 4\\nSkipping line 69869: expected 3 fields, saw 4\\n'\n"
     ]
    },
    {
     "data": {
      "text/html": [
       "<div>\n",
       "<style scoped>\n",
       "    .dataframe tbody tr th:only-of-type {\n",
       "        vertical-align: middle;\n",
       "    }\n",
       "\n",
       "    .dataframe tbody tr th {\n",
       "        vertical-align: top;\n",
       "    }\n",
       "\n",
       "    .dataframe thead th {\n",
       "        text-align: right;\n",
       "    }\n",
       "</style>\n",
       "<table border=\"1\" class=\"dataframe\">\n",
       "  <thead>\n",
       "    <tr style=\"text-align: right;\">\n",
       "      <th></th>\n",
       "      <th>用微信都6年，微信没有微粒贷功能</th>\n",
       "      <th>4。号码来微粒贷</th>\n",
       "      <th>0</th>\n",
       "    </tr>\n",
       "  </thead>\n",
       "  <tbody>\n",
       "    <tr>\n",
       "      <th>0</th>\n",
       "      <td>微信消费算吗</td>\n",
       "      <td>还有多少钱没还</td>\n",
       "      <td>0.0</td>\n",
       "    </tr>\n",
       "    <tr>\n",
       "      <th>1</th>\n",
       "      <td>交易密码忘记了找回密码绑定的手机卡也掉了</td>\n",
       "      <td>怎么最近安全老是要改密码呢好麻烦</td>\n",
       "      <td>0.0</td>\n",
       "    </tr>\n",
       "    <tr>\n",
       "      <th>2</th>\n",
       "      <td>你好我昨天晚上申请的没有打电话给我今天之内一定会打吗？</td>\n",
       "      <td>什么时候可以到账</td>\n",
       "      <td>0.0</td>\n",
       "    </tr>\n",
       "    <tr>\n",
       "      <th>3</th>\n",
       "      <td>“微粒贷开通\"</td>\n",
       "      <td>你好，我的微粒贷怎么没有开通呢</td>\n",
       "      <td>0.0</td>\n",
       "    </tr>\n",
       "    <tr>\n",
       "      <th>4</th>\n",
       "      <td>为什么借款后一直没有给我回拨电话</td>\n",
       "      <td>怎么申请借款后没有打电话过来呢！</td>\n",
       "      <td>1.0</td>\n",
       "    </tr>\n",
       "  </tbody>\n",
       "</table>\n",
       "</div>"
      ],
      "text/plain": [
       "              用微信都6年，微信没有微粒贷功能          4。号码来微粒贷    0\n",
       "0                       微信消费算吗           还有多少钱没还  0.0\n",
       "1         交易密码忘记了找回密码绑定的手机卡也掉了  怎么最近安全老是要改密码呢好麻烦  0.0\n",
       "2  你好我昨天晚上申请的没有打电话给我今天之内一定会打吗？          什么时候可以到账  0.0\n",
       "3                      “微粒贷开通\"   你好，我的微粒贷怎么没有开通呢  0.0\n",
       "4             为什么借款后一直没有给我回拨电话  怎么申请借款后没有打电话过来呢！  1.0"
      ]
     },
     "execution_count": 17,
     "metadata": {},
     "output_type": "execute_result"
    }
   ],
   "source": [
    "bq_corpus_train = pd.read_csv('E:/学习/千言数据集/bq_corpus/bq_corpus/train.tsv',sep='\\t',error_bad_lines=False)\n",
    "bq_corpus_test = pd.read_csv('E:/学习/千言数据集/bq_corpus/bq_corpus/test.tsv',sep='\\t',error_bad_lines=False)\n",
    "bq_corpus_dev = pd.read_csv('E:/学习/千言数据集/bq_corpus/bq_corpus/dev.tsv',sep='\\t',error_bad_lines=False)\n",
    "\n",
    "\n",
    "lcqmc_train = pd.read_csv('E:/学习/千言数据集/lcqmc/lcqmc/train.tsv',sep='\\t',error_bad_lines=False)\n",
    "lcqmc_test = pd.read_csv('E:/学习/千言数据集/lcqmc/lcqmc/test.tsv',sep='\\t',error_bad_lines=False)\n",
    "lcqmc_dev = pd.read_csv('E:/学习/千言数据集/lcqmc/lcqmc/dev.tsv',sep='\\t',error_bad_lines=False)\n",
    "\n",
    "paws_x_zh_train = pd.read_csv('E:/学习/千言数据集/paws-x-zh/paws-x-zh/train.tsv',sep='\\t',error_bad_lines=False)\n",
    "paws_x_zh_test = pd.read_csv('E:/学习/千言数据集/paws-x-zh/paws-x-zh/test.tsv',sep='\\t',error_bad_lines=False)\n",
    "paws_x_zh_dev = pd.read_csv('E:/学习/千言数据集/paws-x-zh/paws-x-zh/dev.tsv',sep='\\t',error_bad_lines=False)\n",
    "\n",
    "bq_corpus_train.head()"
   ]
  },
  {
   "cell_type": "markdown",
   "metadata": {},
   "source": [
    "## 任务2：对句子对提取TFIDF以及统计特征，训练和预测\n",
    "\n",
    "参考代码：https://www.kaggle.com/anokas/data-analysis-xgboost-starter-0-35460-lb\n",
    "- 步骤1 ：对句子对（句子A和句子B统计）如下特征：\n",
    "    - 句子A包含的字符个数、句子B包含的字符个数\n",
    "    - 句子A与句子B的编辑距离\n",
    "    - 句子A与句子B共有单词的个数\n",
    "    - 句子A与句子B共有字符的个数\n",
    "    - 句子A与句子B共有单词的个数 / 句子A字符个数\n",
    "    - 句子A与句子B共有单词的个数 / 句子B字符个数\n",
    "- 步骤2 ：计算TFIDF，并对句子A和句子B进行特征转换，并进行\n",
    "- 步骤3 ：计算句子A与句子B的TFIDF向量的内积距离\n",
    "- 步骤4 ：将上述特征送入分类模型，训练并预测，将结果预测提交到比赛网站。"
   ]
  },
  {
   "cell_type": "code",
   "execution_count": 33,
   "metadata": {},
   "outputs": [
    {
     "data": {
      "text/html": [
       "<div>\n",
       "<style scoped>\n",
       "    .dataframe tbody tr th:only-of-type {\n",
       "        vertical-align: middle;\n",
       "    }\n",
       "\n",
       "    .dataframe tbody tr th {\n",
       "        vertical-align: top;\n",
       "    }\n",
       "\n",
       "    .dataframe thead th {\n",
       "        text-align: right;\n",
       "    }\n",
       "</style>\n",
       "<table border=\"1\" class=\"dataframe\">\n",
       "  <thead>\n",
       "    <tr style=\"text-align: right;\">\n",
       "      <th></th>\n",
       "      <th>q1</th>\n",
       "      <th>q2</th>\n",
       "      <th>label</th>\n",
       "    </tr>\n",
       "  </thead>\n",
       "  <tbody>\n",
       "    <tr>\n",
       "      <th>0</th>\n",
       "      <td>凯西和她的丈夫皮特·比尔（彼得·迪恩）经济状况稳定。</td>\n",
       "      <td>凯西和她的丈夫彼得·迪恩（皮特·比尔）经济状况稳定。</td>\n",
       "      <td>1</td>\n",
       "    </tr>\n",
       "    <tr>\n",
       "      <th>1</th>\n",
       "      <td>Timora diarhoda 是夜蛾科的一种蛾类。它被发现于非洲，包括南非。</td>\n",
       "      <td>Diarhoda 是夜蛾科的一种蛾类。它被发现于南非，包括非洲。</td>\n",
       "      <td>1</td>\n",
       "    </tr>\n",
       "    <tr>\n",
       "      <th>2</th>\n",
       "      <td>小乔·R·坎帕是前美国海军水手，曾任美国海军第十一任军士长。</td>\n",
       "      <td>小乔·R·坎帕是前美国海军水手，曾任美国海军第十一任军士长。</td>\n",
       "      <td>1</td>\n",
       "    </tr>\n",
       "    <tr>\n",
       "      <th>3</th>\n",
       "      <td>库克池也称为南瓦图帕池，位于劳雷尔湖东南面和汤顿河西面。</td>\n",
       "      <td>库克池之前也称为劳雷尔湖，位于汤顿河东南部和南瓦图帕池西部。</td>\n",
       "      <td>0</td>\n",
       "    </tr>\n",
       "    <tr>\n",
       "      <th>4</th>\n",
       "      <td>1972 年，他举家搬至营山，并就读于宾西法尼亚州哈里斯堡的崔尼迪高中。</td>\n",
       "      <td>1972 年，全家搬至希尔营，他在那里参观了宾西法尼亚州哈里斯堡的三一高中。</td>\n",
       "      <td>1</td>\n",
       "    </tr>\n",
       "    <tr>\n",
       "      <th>...</th>\n",
       "      <td>...</td>\n",
       "      <td>...</td>\n",
       "      <td>...</td>\n",
       "    </tr>\n",
       "    <tr>\n",
       "      <th>1994</th>\n",
       "      <td>李参加过意大利、俄罗斯、希腊、法国、印度尼西亚和希腊的职业比赛。他曾在波多黎各、葡萄牙和印度...</td>\n",
       "      <td>他曾在希腊、俄罗斯、意大利、法国、波多黎各、葡萄牙和印度尼西亚打过职业比赛，并在印度尼西亚和...</td>\n",
       "      <td>0</td>\n",
       "    </tr>\n",
       "    <tr>\n",
       "      <th>1995</th>\n",
       "      <td>朗德岛目前无人居住，由美国林务局整体拥有，作为海华沙国家森林的一部分进行管理。</td>\n",
       "      <td>郎德岛目前无人居住，由美国国家森林局全面管理，是海华沙国家森林的一部分。</td>\n",
       "      <td>0</td>\n",
       "    </tr>\n",
       "    <tr>\n",
       "      <th>1996</th>\n",
       "      <td>她得到理查德·吉布森和宫廷画师彼得·雷利的称赞，她被公认为成就堪比琼·卡莱尔。</td>\n",
       "      <td>她受到理查德·吉布森和宫廷画家琼·卡莱尔的称赞，被认为像彼得·莱利一样成功。</td>\n",
       "      <td>0</td>\n",
       "    </tr>\n",
       "    <tr>\n",
       "      <th>1997</th>\n",
       "      <td>JoyKey 没有活动部件，也没有会破裂的软木塞，或会磨损的羽毛。</td>\n",
       "      <td>JoyKey 没有活动部件，也没有会磨损的软木塞或可能断裂的弹簧。</td>\n",
       "      <td>0</td>\n",
       "    </tr>\n",
       "    <tr>\n",
       "      <th>1998</th>\n",
       "      <td>2002 年，英国制作人文森特·斯托姆菲尔德发行此首歌曲，而后 Independiente ...</td>\n",
       "      <td>2002 年，这首歌由英国制作人 Vincent Stormfield 发行，并由 Inde...</td>\n",
       "      <td>1</td>\n",
       "    </tr>\n",
       "  </tbody>\n",
       "</table>\n",
       "<p>1999 rows × 3 columns</p>\n",
       "</div>"
      ],
      "text/plain": [
       "                                                     q1  \\\n",
       "0                            凯西和她的丈夫皮特·比尔（彼得·迪恩）经济状况稳定。   \n",
       "1               Timora diarhoda 是夜蛾科的一种蛾类。它被发现于非洲，包括南非。   \n",
       "2                        小乔·R·坎帕是前美国海军水手，曾任美国海军第十一任军士长。   \n",
       "3                          库克池也称为南瓦图帕池，位于劳雷尔湖东南面和汤顿河西面。   \n",
       "4                  1972 年，他举家搬至营山，并就读于宾西法尼亚州哈里斯堡的崔尼迪高中。   \n",
       "...                                                 ...   \n",
       "1994  李参加过意大利、俄罗斯、希腊、法国、印度尼西亚和希腊的职业比赛。他曾在波多黎各、葡萄牙和印度...   \n",
       "1995            朗德岛目前无人居住，由美国林务局整体拥有，作为海华沙国家森林的一部分进行管理。   \n",
       "1996            她得到理查德·吉布森和宫廷画师彼得·雷利的称赞，她被公认为成就堪比琼·卡莱尔。   \n",
       "1997                  JoyKey 没有活动部件，也没有会破裂的软木塞，或会磨损的羽毛。   \n",
       "1998  2002 年，英国制作人文森特·斯托姆菲尔德发行此首歌曲，而后 Independiente ...   \n",
       "\n",
       "                                                     q2  label  \n",
       "0                            凯西和她的丈夫彼得·迪恩（皮特·比尔）经济状况稳定。      1  \n",
       "1                      Diarhoda 是夜蛾科的一种蛾类。它被发现于南非，包括非洲。      1  \n",
       "2                        小乔·R·坎帕是前美国海军水手，曾任美国海军第十一任军士长。      1  \n",
       "3                        库克池之前也称为劳雷尔湖，位于汤顿河东南部和南瓦图帕池西部。      0  \n",
       "4                1972 年，全家搬至希尔营，他在那里参观了宾西法尼亚州哈里斯堡的三一高中。      1  \n",
       "...                                                 ...    ...  \n",
       "1994  他曾在希腊、俄罗斯、意大利、法国、波多黎各、葡萄牙和印度尼西亚打过职业比赛，并在印度尼西亚和...      0  \n",
       "1995               郎德岛目前无人居住，由美国国家森林局全面管理，是海华沙国家森林的一部分。      0  \n",
       "1996             她受到理查德·吉布森和宫廷画家琼·卡莱尔的称赞，被认为像彼得·莱利一样成功。      0  \n",
       "1997                  JoyKey 没有活动部件，也没有会磨损的软木塞或可能断裂的弹簧。      0  \n",
       "1998  2002 年，这首歌由英国制作人 Vincent Stormfield 发行，并由 Inde...      1  \n",
       "\n",
       "[1999 rows x 3 columns]"
      ]
     },
     "execution_count": 33,
     "metadata": {},
     "output_type": "execute_result"
    }
   ],
   "source": [
    "# 加个列名\n",
    "def add_columns(df):\n",
    "    if len(df.columns)==3:\n",
    "        df.columns =['q1','q2','label']\n",
    "    else:\n",
    "        df.columns =['q1','q2']\n",
    "    return df\n",
    "\n",
    "add_columns(bq_corpus_train)\n",
    "add_columns(bq_corpus_test)\n",
    "add_columns(bq_corpus_dev)\n",
    "\n",
    "add_columns(lcqmc_train)\n",
    "add_columns(lcqmc_test)\n",
    "add_columns(lcqmc_dev)\n",
    "\n",
    "add_columns(paws_x_zh_train)\n",
    "add_columns(paws_x_zh_test)\n",
    "add_columns(paws_x_zh_dev)"
   ]
  },
  {
   "cell_type": "code",
   "execution_count": 55,
   "metadata": {},
   "outputs": [
    {
     "name": "stdout",
     "output_type": "stream",
     "text": [
      "count    172390.000000\n",
      "mean         13.432571\n",
      "std         239.884252\n",
      "min           1.000000\n",
      "25%           7.000000\n",
      "50%          10.000000\n",
      "75%          14.000000\n",
      "max       51842.000000\n",
      "dtype: float64\n",
      "count    19998.000000\n",
      "mean        11.861186\n",
      "std          7.183744\n",
      "min          1.000000\n",
      "25%          7.000000\n",
      "50%         10.000000\n",
      "75%         14.000000\n",
      "max        100.000000\n",
      "dtype: float64\n"
     ]
    },
    {
     "data": {
      "image/png": "[encoded data removed]",
      "text/plain": [
       "<Figure size 864x576 with 1 Axes>"
      ]
     },
     "metadata": {
      "needs_background": "light"
     },
     "output_type": "display_data"
    }
   ],
   "source": [
    "# 字数统计\n",
    "# 文本长度分布基本一致\n",
    "\n",
    "train_qs = pd.Series(bq_corpus_train['q1'].tolist()+bq_corpus_train['q2'].to_list())\n",
    "test_qs = pd.Series(bq_corpus_test['q1'].tolist()+bq_corpus_test['q2'].to_list())\n",
    "\n",
    "train_len = train_qs.apply(len)\n",
    "test_len = test_qs.apply(len)\n",
    "\n",
    "print(train_len.describe())\n",
    "print(test_len.describe())\n",
    "\n",
    "plt.figure(figsize=(12, 8))\n",
    "plt.hist(train_len, bins=200, range=[0, 200], color=pal[2], label='train')\n",
    "plt.hist(test_len, bins=200, range=[0, 200], color=pal[1], alpha=0.5, label='test')\n",
    "plt.show();"
   ]
  },
  {
   "cell_type": "code",
   "execution_count": 71,
   "metadata": {},
   "outputs": [
    {
     "data": {
      "text/plain": [
       "[('开通', 69),\n",
       " ('开通微粒贷', 49),\n",
       " ('借款取消', 44),\n",
       " ('如何计息', 34),\n",
       " ('4:怎么计息', 33),\n",
       " ('如何更改手机', 31),\n",
       " ('开通借款', 31),\n",
       " ('借款后多长时间给打电话', 30),\n",
       " ('借款失败', 30),\n",
       " ('开通一下', 30)]"
      ]
     },
     "execution_count": 71,
     "metadata": {},
     "output_type": "execute_result"
    }
   ],
   "source": [
    "from collections import Counter\n",
    "# 所有的字符都是以空格分隔\n",
    "all_lines = ' '.join(list(bq_corpus_train['q1']))\n",
    "# 统计每个字符出现的次数\n",
    "word_count = Counter(all_lines.split(\" \"))\n",
    "word_count = sorted(word_count.items(), key=lambda d:d[1], reverse = True)\n",
    "word_count[:10]"
   ]
  },
  {
   "cell_type": "code",
   "execution_count": 72,
   "metadata": {},
   "outputs": [],
   "source": [
    "# 句子A与句子B共有单词的个数 / 句子A字符个数\n",
    "bq_corpus_train_q1 = bq_corpus_train['q1'].apply(lambda x:str(x))\n",
    "bq_corpus_train_q2 = bq_corpus_train['q2'].apply(lambda x:str(x))\n",
    "\n",
    "words=[]\n",
    "for n,sentence1 in enumerate(bq_corpus_train_q1):\n",
    "    for word in sentence1:\n",
    "        if word in bq_corpus_train_q2[n]:\n",
    "            words.append(word)\n",
    "# words\n"
   ]
  }
 ],
 "metadata": {
  "interpreter": {
   "hash": "8d86c190dfcadcdaa67edec4a1ea82702241987b5b1f320c920d3d4ca36fee5b"
  },
  "kernelspec": {
   "display_name": "Python 3.8.3 64-bit ('base': conda)",
   "language": "python",
   "name": "python3"
  },
  "language_info": {
   "codemirror_mode": {
    "name": "ipython",
    "version": 3
   },
   "file_extension": ".py",
   "mimetype": "text/x-python",
   "name": "python",
   "nbconvert_exporter": "python",
   "pygments_lexer": "ipython3",
   "version": "3.8.3"
  },
  "orig_nbformat": 4
 },
 "nbformat": 4,
 "nbformat_minor": 2
}
