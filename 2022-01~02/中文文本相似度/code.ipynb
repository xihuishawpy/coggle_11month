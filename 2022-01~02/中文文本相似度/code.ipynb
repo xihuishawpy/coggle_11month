{
 "cells": [
  {
   "cell_type": "markdown",
   "metadata": {},
   "source": [
    "## 任务1：报名比赛，下载比赛数据集并完成读取\n",
    "\n",
    "- 步骤1 ：登录&报名比赛：https://aistudio.baidu.com/aistudio/competition/detail/45/0/task-definition\n",
    "- 步骤2 ：下载比赛数据集\n",
    "- 步骤3 ：使用Pandas完成数据读取。"
   ]
  },
  {
   "cell_type": "code",
   "execution_count": 1,
   "metadata": {},
   "outputs": [
    {
     "data": {
      "text/plain": [
       "'1.3.5'"
      ]
     },
     "execution_count": 1,
     "metadata": {},
     "output_type": "execute_result"
    }
   ],
   "source": [
    "import numpy as np \n",
    "import pandas as pd \n",
    "import os\n",
    "import gc\n",
    "import matplotlib.pyplot as plt\n",
    "import jieba\n",
    "import distance \n",
    "import seaborn as sns\n",
    "%matplotlib inline\n",
    "\n",
    "pal = sns.color_palette()\n",
    "pd.__version__"
   ]
  },
  {
   "cell_type": "code",
   "execution_count": 2,
   "metadata": {},
   "outputs": [],
   "source": [
    "# data_dir = 'D:/study_hard/statistic/千言数据集'\n",
    "data_list = ['bq_corpus','lcqmc','paws-x-zh']\n",
    "data_dir = 'E:/学习/千言数据集/'"
   ]
  },
  {
   "cell_type": "code",
   "execution_count": 3,
   "metadata": {},
   "outputs": [
    {
     "name": "stderr",
     "output_type": "stream",
     "text": [
      "E:\\anaconda\\lib\\site-packages\\IPython\\core\\interactiveshell.py:3343: FutureWarning: The error_bad_lines argument has been deprecated and will be removed in a future version.\n",
      "\n",
      "\n",
      "  exec(code_obj, self.user_global_ns, self.user_ns)\n"
     ]
    },
    {
     "data": {
      "text/plain": [
       "(                            q1                q2 label\n",
       " 0             用微信都6年，微信没有微粒贷功能          4。号码来微粒贷     0\n",
       " 1                       微信消费算吗           还有多少钱没还     0\n",
       " 2         交易密码忘记了找回密码绑定的手机卡也掉了  怎么最近安全老是要改密码呢好麻烦     0\n",
       " 3  你好我昨天晚上申请的没有打电话给我今天之内一定会打吗？          什么时候可以到账     0\n",
       " 4                      “微粒贷开通\"   你好，我的微粒贷怎么没有开通呢     0,\n",
       " (86198, 3))"
      ]
     },
     "execution_count": 3,
     "metadata": {},
     "output_type": "execute_result"
    }
   ],
   "source": [
    "# 先读一个数据集，后面统一读\n",
    "\n",
    "train = pd.read_csv(data_dir+'/bq_corpus/train.tsv',sep='\\t',error_bad_lines=False,names=['q1','q2','label']).dropna()\n",
    "test = pd.read_csv(data_dir+'/bq_corpus/test.tsv',sep='\\t',error_bad_lines=False,names=['q1','q2']).dropna()\n",
    "test['label'] = -1 \n",
    "dev = pd.read_csv(data_dir+'/bq_corpus/dev.tsv',sep='\\t',error_bad_lines=False,names=['q1','q2','label']).dropna()\n",
    "\n",
    "train.head(),train.shape()"
   ]
  },
  {
   "cell_type": "markdown",
   "metadata": {},
   "source": [
    "## 任务2：对句子对提取TFIDF以及统计特征，训练和预测\n",
    "\n",
    "参考代码：https://www.kaggle.com/anokas/data-analysis-xgboost-starter-0-35460-lb\n",
    "- 步骤1 ：对句子对（句子A和句子B统计）如下特征：\n",
    "    - 句子A包含的字符个数、句子B包含的字符个数\n",
    "    - 句子A与句子B的编辑距离\n",
    "    - 句子A与句子B共有单词的个数\n",
    "    - 句子A与句子B共有字符的个数\n",
    "    - 句子A与句子B共有单词的个数 / 句子A字符个数\n",
    "    - 句子A与句子B共有单词的个数 / 句子B字符个数\n",
    "- 步骤2 ：计算TFIDF，并对句子A和句子B进行特征转换，并进行\n",
    "- 步骤3 ：计算句子A与句子B的TFIDF向量的内积距离\n",
    "- 步骤4 ：将上述特征送入分类模型，训练并预测，将结果预测提交到比赛网站。"
   ]
  },
  {
   "cell_type": "code",
   "execution_count": 33,
   "metadata": {},
   "outputs": [],
   "source": [
    "# 句子对特征\n",
    "\n",
    "# 字符个数\n",
    "train['q1_len'] = train['q1'].apply(len)\n",
    "train['q2_len'] = train['q2'].apply(len)  \n",
    "\n",
    "# 编辑距离 \n",
    "# Levenshtein Distance 被称为编辑距离（Edit Distance），一个度量两个字符序列之间差异的字符串度量标准\n",
    "train['Lev_distance'] = train.apply(lambda x:distance.levenshtein(x['q1'],x['q2']),axis=1)\n",
    "\n",
    "# jieba分词 \n",
    "# cut_all=True，全模式，“我来到北京清华大学”-->“ 我/ 来到/ 北京/ 清华/ 清华大学/ 华大/ 大学”\n",
    "def jieba_cut(sentence):\n",
    "    word_list = jieba.lcut(sentence,cut_all=True) \n",
    "    return word_list \n",
    "\n",
    "train['q1_jieba_cut'] = train['q1'].apply(lambda x:jieba_cut(x)) \n",
    "train['q2_jieba_cut'] = train['q2'].apply(lambda x:jieba_cut(x)) \n",
    "\n",
    "# 分词后的词个数\n",
    "train['q1_words_len'] = train['q1_jieba_cut'].apply(len)\n",
    "train['q2_words_len'] = train['q2_jieba_cut'].apply(len)  \n",
    "   \n",
    "# 分词后，两句子相同词占所有词的比例\n",
    "\n"
   ]
  },
  {
   "cell_type": "code",
   "execution_count": 19,
   "metadata": {},
   "outputs": [
    {
     "name": "stdout",
     "output_type": "stream",
     "text": [
      "count    172396.000000\n",
      "mean         13.847769\n",
      "std         271.696725\n",
      "min           1.000000\n",
      "25%           7.000000\n",
      "50%          10.000000\n",
      "75%          14.000000\n",
      "max       51842.000000\n",
      "dtype: float64\n",
      "count    20000.000000\n",
      "mean        11.861050\n",
      "std          7.183399\n",
      "min          1.000000\n",
      "25%          7.000000\n",
      "50%         10.000000\n",
      "75%         14.000000\n",
      "max        100.000000\n",
      "dtype: float64\n"
     ]
    },
    {
     "data": {
      "image/png": "[encoded data removed]",
      "text/plain": [
       "<Figure size 864x576 with 1 Axes>"
      ]
     },
     "metadata": {
      "needs_background": "light"
     },
     "output_type": "display_data"
    }
   ],
   "source": [
    "# 字数统计\n",
    "# 文本长度分布基本一致\n",
    "\n",
    "train_qs = pd.Series(train['q1'].tolist()+train['q2'].to_list())\n",
    "test_qs = pd.Series(test['q1'].tolist()+test['q2'].to_list())\n",
    "\n",
    "train_len = train_qs.apply(len)\n",
    "test_len = test_qs.apply(len)\n",
    "\n",
    "print(train_len.describe())\n",
    "print(test_len.describe())\n",
    "\n",
    "plt.figure(figsize=(12, 8))\n",
    "plt.hist(train_len, bins=200, range=[0, 200], color=pal[2], label='train')\n",
    "plt.hist(test_len, bins=200, range=[0, 200], color=pal[1], alpha=0.5, label='test')\n",
    "plt.show();"
   ]
  },
  {
   "cell_type": "code",
   "execution_count": 20,
   "metadata": {},
   "outputs": [
    {
     "data": {
      "text/plain": [
       "[('开通', 69),\n",
       " ('开通微粒贷', 49),\n",
       " ('借款取消', 44),\n",
       " ('如何计息', 34),\n",
       " ('4:怎么计息', 33),\n",
       " ('如何更改手机', 31),\n",
       " ('开通借款', 31),\n",
       " ('借款后多长时间给打电话', 30),\n",
       " ('借款失败', 30),\n",
       " ('开通一下', 30)]"
      ]
     },
     "execution_count": 20,
     "metadata": {},
     "output_type": "execute_result"
    }
   ],
   "source": [
    "from collections import Counter\n",
    "# 所有的字符都是以空格分隔\n",
    "all_lines = ' '.join(list(train['q1']))\n",
    "# 统计每个字符出现的次数\n",
    "word_count = Counter(all_lines.split(\" \"))\n",
    "word_count = sorted(word_count.items(), key=lambda d:d[1], reverse = True)\n",
    "word_count[:10]"
   ]
  }
 ],
 "metadata": {
  "interpreter": {
   "hash": "8d86c190dfcadcdaa67edec4a1ea82702241987b5b1f320c920d3d4ca36fee5b"
  },
  "kernelspec": {
   "display_name": "Python 3.8.3 64-bit ('base': conda)",
   "language": "python",
   "name": "python3"
  },
  "language_info": {
   "codemirror_mode": {
    "name": "ipython",
    "version": 3
   },
   "file_extension": ".py",
   "mimetype": "text/x-python",
   "name": "python",
   "nbconvert_exporter": "python",
   "pygments_lexer": "ipython3",
   "version": "3.8.3"
  },
  "orig_nbformat": 4
 },
 "nbformat": 4,
 "nbformat_minor": 2
}
